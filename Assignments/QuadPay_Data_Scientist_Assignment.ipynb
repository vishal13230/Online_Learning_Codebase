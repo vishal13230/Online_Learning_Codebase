{
  "nbformat": 4,
  "nbformat_minor": 0,
  "metadata": {
    "colab": {
      "name": "QuadPay Data Scientist Assignment.ipynb",
      "provenance": [],
      "collapsed_sections": []
    },
    "kernelspec": {
      "display_name": "Python 3",
      "language": "python",
      "name": "python3"
    },
    "language_info": {
      "codemirror_mode": {
        "name": "ipython",
        "version": 3
      },
      "file_extension": ".py",
      "mimetype": "text/x-python",
      "name": "python",
      "nbconvert_exporter": "python",
      "pygments_lexer": "ipython3",
      "version": "3.8.5"
    }
  },
  "cells": [
    {
      "cell_type": "code",
      "metadata": {
        "id": "ZsDqPcOSeRdE"
      },
      "source": [
        "# Import the libraries\n",
        "import numpy as np\n",
        "import pandas as pd\n",
        "import matplotlib.pyplot as plt\n",
        "plt.style.use(\"ggplot\")\n",
        "import seaborn as sns\n",
        "import warnings\n",
        "warnings.filterwarnings(\"ignore\")"
      ],
      "execution_count": 1,
      "outputs": []
    },
    {
      "cell_type": "code",
      "metadata": {
        "colab": {
          "resources": {
            "http://localhost:8080/nbextensions/google.colab/files.js": {
              "data": "Ly8gQ29weXJpZ2h0IDIwMTcgR29vZ2xlIExMQwovLwovLyBMaWNlbnNlZCB1bmRlciB0aGUgQXBhY2hlIExpY2Vuc2UsIFZlcnNpb24gMi4wICh0aGUgIkxpY2Vuc2UiKTsKLy8geW91IG1heSBub3QgdXNlIHRoaXMgZmlsZSBleGNlcHQgaW4gY29tcGxpYW5jZSB3aXRoIHRoZSBMaWNlbnNlLgovLyBZb3UgbWF5IG9idGFpbiBhIGNvcHkgb2YgdGhlIExpY2Vuc2UgYXQKLy8KLy8gICAgICBodHRwOi8vd3d3LmFwYWNoZS5vcmcvbGljZW5zZXMvTElDRU5TRS0yLjAKLy8KLy8gVW5sZXNzIHJlcXVpcmVkIGJ5IGFwcGxpY2FibGUgbGF3IG9yIGFncmVlZCB0byBpbiB3cml0aW5nLCBzb2Z0d2FyZQovLyBkaXN0cmlidXRlZCB1bmRlciB0aGUgTGljZW5zZSBpcyBkaXN0cmlidXRlZCBvbiBhbiAiQVMgSVMiIEJBU0lTLAovLyBXSVRIT1VUIFdBUlJBTlRJRVMgT1IgQ09ORElUSU9OUyBPRiBBTlkgS0lORCwgZWl0aGVyIGV4cHJlc3Mgb3IgaW1wbGllZC4KLy8gU2VlIHRoZSBMaWNlbnNlIGZvciB0aGUgc3BlY2lmaWMgbGFuZ3VhZ2UgZ292ZXJuaW5nIHBlcm1pc3Npb25zIGFuZAovLyBsaW1pdGF0aW9ucyB1bmRlciB0aGUgTGljZW5zZS4KCi8qKgogKiBAZmlsZW92ZXJ2aWV3IEhlbHBlcnMgZm9yIGdvb2dsZS5jb2xhYiBQeXRob24gbW9kdWxlLgogKi8KKGZ1bmN0aW9uKHNjb3BlKSB7CmZ1bmN0aW9uIHNwYW4odGV4dCwgc3R5bGVBdHRyaWJ1dGVzID0ge30pIHsKICBjb25zdCBlbGVtZW50ID0gZG9jdW1lbnQuY3JlYXRlRWxlbWVudCgnc3BhbicpOwogIGVsZW1lbnQudGV4dENvbnRlbnQgPSB0ZXh0OwogIGZvciAoY29uc3Qga2V5IG9mIE9iamVjdC5rZXlzKHN0eWxlQXR0cmlidXRlcykpIHsKICAgIGVsZW1lbnQuc3R5bGVba2V5XSA9IHN0eWxlQXR0cmlidXRlc1trZXldOwogIH0KICByZXR1cm4gZWxlbWVudDsKfQoKLy8gTWF4IG51bWJlciBvZiBieXRlcyB3aGljaCB3aWxsIGJlIHVwbG9hZGVkIGF0IGEgdGltZS4KY29uc3QgTUFYX1BBWUxPQURfU0laRSA9IDEwMCAqIDEwMjQ7CgpmdW5jdGlvbiBfdXBsb2FkRmlsZXMoaW5wdXRJZCwgb3V0cHV0SWQpIHsKICBjb25zdCBzdGVwcyA9IHVwbG9hZEZpbGVzU3RlcChpbnB1dElkLCBvdXRwdXRJZCk7CiAgY29uc3Qgb3V0cHV0RWxlbWVudCA9IGRvY3VtZW50LmdldEVsZW1lbnRCeUlkKG91dHB1dElkKTsKICAvLyBDYWNoZSBzdGVwcyBvbiB0aGUgb3V0cHV0RWxlbWVudCB0byBtYWtlIGl0IGF2YWlsYWJsZSBmb3IgdGhlIG5leHQgY2FsbAogIC8vIHRvIHVwbG9hZEZpbGVzQ29udGludWUgZnJvbSBQeXRob24uCiAgb3V0cHV0RWxlbWVudC5zdGVwcyA9IHN0ZXBzOwoKICByZXR1cm4gX3VwbG9hZEZpbGVzQ29udGludWUob3V0cHV0SWQpOwp9CgovLyBUaGlzIGlzIHJvdWdobHkgYW4gYXN5bmMgZ2VuZXJhdG9yIChub3Qgc3VwcG9ydGVkIGluIHRoZSBicm93c2VyIHlldCksCi8vIHdoZXJlIHRoZXJlIGFyZSBtdWx0aXBsZSBhc3luY2hyb25vdXMgc3RlcHMgYW5kIHRoZSBQeXRob24gc2lkZSBpcyBnb2luZwovLyB0byBwb2xsIGZvciBjb21wbGV0aW9uIG9mIGVhY2ggc3RlcC4KLy8gVGhpcyB1c2VzIGEgUHJvbWlzZSB0byBibG9jayB0aGUgcHl0aG9uIHNpZGUgb24gY29tcGxldGlvbiBvZiBlYWNoIHN0ZXAsCi8vIHRoZW4gcGFzc2VzIHRoZSByZXN1bHQgb2YgdGhlIHByZXZpb3VzIHN0ZXAgYXMgdGhlIGlucHV0IHRvIHRoZSBuZXh0IHN0ZXAuCmZ1bmN0aW9uIF91cGxvYWRGaWxlc0NvbnRpbnVlKG91dHB1dElkKSB7CiAgY29uc3Qgb3V0cHV0RWxlbWVudCA9IGRvY3VtZW50LmdldEVsZW1lbnRCeUlkKG91dHB1dElkKTsKICBjb25zdCBzdGVwcyA9IG91dHB1dEVsZW1lbnQuc3RlcHM7CgogIGNvbnN0IG5leHQgPSBzdGVwcy5uZXh0KG91dHB1dEVsZW1lbnQubGFzdFByb21pc2VWYWx1ZSk7CiAgcmV0dXJuIFByb21pc2UucmVzb2x2ZShuZXh0LnZhbHVlLnByb21pc2UpLnRoZW4oKHZhbHVlKSA9PiB7CiAgICAvLyBDYWNoZSB0aGUgbGFzdCBwcm9taXNlIHZhbHVlIHRvIG1ha2UgaXQgYXZhaWxhYmxlIHRvIHRoZSBuZXh0CiAgICAvLyBzdGVwIG9mIHRoZSBnZW5lcmF0b3IuCiAgICBvdXRwdXRFbGVtZW50Lmxhc3RQcm9taXNlVmFsdWUgPSB2YWx1ZTsKICAgIHJldHVybiBuZXh0LnZhbHVlLnJlc3BvbnNlOwogIH0pOwp9CgovKioKICogR2VuZXJhdG9yIGZ1bmN0aW9uIHdoaWNoIGlzIGNhbGxlZCBiZXR3ZWVuIGVhY2ggYXN5bmMgc3RlcCBvZiB0aGUgdXBsb2FkCiAqIHByb2Nlc3MuCiAqIEBwYXJhbSB7c3RyaW5nfSBpbnB1dElkIEVsZW1lbnQgSUQgb2YgdGhlIGlucHV0IGZpbGUgcGlja2VyIGVsZW1lbnQuCiAqIEBwYXJhbSB7c3RyaW5nfSBvdXRwdXRJZCBFbGVtZW50IElEIG9mIHRoZSBvdXRwdXQgZGlzcGxheS4KICogQHJldHVybiB7IUl0ZXJhYmxlPCFPYmplY3Q+fSBJdGVyYWJsZSBvZiBuZXh0IHN0ZXBzLgogKi8KZnVuY3Rpb24qIHVwbG9hZEZpbGVzU3RlcChpbnB1dElkLCBvdXRwdXRJZCkgewogIGNvbnN0IGlucHV0RWxlbWVudCA9IGRvY3VtZW50LmdldEVsZW1lbnRCeUlkKGlucHV0SWQpOwogIGlucHV0RWxlbWVudC5kaXNhYmxlZCA9IGZhbHNlOwoKICBjb25zdCBvdXRwdXRFbGVtZW50ID0gZG9jdW1lbnQuZ2V0RWxlbWVudEJ5SWQob3V0cHV0SWQpOwogIG91dHB1dEVsZW1lbnQuaW5uZXJIVE1MID0gJyc7CgogIGNvbnN0IHBpY2tlZFByb21pc2UgPSBuZXcgUHJvbWlzZSgocmVzb2x2ZSkgPT4gewogICAgaW5wdXRFbGVtZW50LmFkZEV2ZW50TGlzdGVuZXIoJ2NoYW5nZScsIChlKSA9PiB7CiAgICAgIHJlc29sdmUoZS50YXJnZXQuZmlsZXMpOwogICAgfSk7CiAgfSk7CgogIGNvbnN0IGNhbmNlbCA9IGRvY3VtZW50LmNyZWF0ZUVsZW1lbnQoJ2J1dHRvbicpOwogIGlucHV0RWxlbWVudC5wYXJlbnRFbGVtZW50LmFwcGVuZENoaWxkKGNhbmNlbCk7CiAgY2FuY2VsLnRleHRDb250ZW50ID0gJ0NhbmNlbCB1cGxvYWQnOwogIGNvbnN0IGNhbmNlbFByb21pc2UgPSBuZXcgUHJvbWlzZSgocmVzb2x2ZSkgPT4gewogICAgY2FuY2VsLm9uY2xpY2sgPSAoKSA9PiB7CiAgICAgIHJlc29sdmUobnVsbCk7CiAgICB9OwogIH0pOwoKICAvLyBXYWl0IGZvciB0aGUgdXNlciB0byBwaWNrIHRoZSBmaWxlcy4KICBjb25zdCBmaWxlcyA9IHlpZWxkIHsKICAgIHByb21pc2U6IFByb21pc2UucmFjZShbcGlja2VkUHJvbWlzZSwgY2FuY2VsUHJvbWlzZV0pLAogICAgcmVzcG9uc2U6IHsKICAgICAgYWN0aW9uOiAnc3RhcnRpbmcnLAogICAgfQogIH07CgogIGNhbmNlbC5yZW1vdmUoKTsKCiAgLy8gRGlzYWJsZSB0aGUgaW5wdXQgZWxlbWVudCBzaW5jZSBmdXJ0aGVyIHBpY2tzIGFyZSBub3QgYWxsb3dlZC4KICBpbnB1dEVsZW1lbnQuZGlzYWJsZWQgPSB0cnVlOwoKICBpZiAoIWZpbGVzKSB7CiAgICByZXR1cm4gewogICAgICByZXNwb25zZTogewogICAgICAgIGFjdGlvbjogJ2NvbXBsZXRlJywKICAgICAgfQogICAgfTsKICB9CgogIGZvciAoY29uc3QgZmlsZSBvZiBmaWxlcykgewogICAgY29uc3QgbGkgPSBkb2N1bWVudC5jcmVhdGVFbGVtZW50KCdsaScpOwogICAgbGkuYXBwZW5kKHNwYW4oZmlsZS5uYW1lLCB7Zm9udFdlaWdodDogJ2JvbGQnfSkpOwogICAgbGkuYXBwZW5kKHNwYW4oCiAgICAgICAgYCgke2ZpbGUudHlwZSB8fCAnbi9hJ30pIC0gJHtmaWxlLnNpemV9IGJ5dGVzLCBgICsKICAgICAgICBgbGFzdCBtb2RpZmllZDogJHsKICAgICAgICAgICAgZmlsZS5sYXN0TW9kaWZpZWREYXRlID8gZmlsZS5sYXN0TW9kaWZpZWREYXRlLnRvTG9jYWxlRGF0ZVN0cmluZygpIDoKICAgICAgICAgICAgICAgICAgICAgICAgICAgICAgICAgICAgJ24vYSd9IC0gYCkpOwogICAgY29uc3QgcGVyY2VudCA9IHNwYW4oJzAlIGRvbmUnKTsKICAgIGxpLmFwcGVuZENoaWxkKHBlcmNlbnQpOwoKICAgIG91dHB1dEVsZW1lbnQuYXBwZW5kQ2hpbGQobGkpOwoKICAgIGNvbnN0IGZpbGVEYXRhUHJvbWlzZSA9IG5ldyBQcm9taXNlKChyZXNvbHZlKSA9PiB7CiAgICAgIGNvbnN0IHJlYWRlciA9IG5ldyBGaWxlUmVhZGVyKCk7CiAgICAgIHJlYWRlci5vbmxvYWQgPSAoZSkgPT4gewogICAgICAgIHJlc29sdmUoZS50YXJnZXQucmVzdWx0KTsKICAgICAgfTsKICAgICAgcmVhZGVyLnJlYWRBc0FycmF5QnVmZmVyKGZpbGUpOwogICAgfSk7CiAgICAvLyBXYWl0IGZvciB0aGUgZGF0YSB0byBiZSByZWFkeS4KICAgIGxldCBmaWxlRGF0YSA9IHlpZWxkIHsKICAgICAgcHJvbWlzZTogZmlsZURhdGFQcm9taXNlLAogICAgICByZXNwb25zZTogewogICAgICAgIGFjdGlvbjogJ2NvbnRpbnVlJywKICAgICAgfQogICAgfTsKCiAgICAvLyBVc2UgYSBjaHVua2VkIHNlbmRpbmcgdG8gYXZvaWQgbWVzc2FnZSBzaXplIGxpbWl0cy4gU2VlIGIvNjIxMTU2NjAuCiAgICBsZXQgcG9zaXRpb24gPSAwOwogICAgZG8gewogICAgICBjb25zdCBsZW5ndGggPSBNYXRoLm1pbihmaWxlRGF0YS5ieXRlTGVuZ3RoIC0gcG9zaXRpb24sIE1BWF9QQVlMT0FEX1NJWkUpOwogICAgICBjb25zdCBjaHVuayA9IG5ldyBVaW50OEFycmF5KGZpbGVEYXRhLCBwb3NpdGlvbiwgbGVuZ3RoKTsKICAgICAgcG9zaXRpb24gKz0gbGVuZ3RoOwoKICAgICAgY29uc3QgYmFzZTY0ID0gYnRvYShTdHJpbmcuZnJvbUNoYXJDb2RlLmFwcGx5KG51bGwsIGNodW5rKSk7CiAgICAgIHlpZWxkIHsKICAgICAgICByZXNwb25zZTogewogICAgICAgICAgYWN0aW9uOiAnYXBwZW5kJywKICAgICAgICAgIGZpbGU6IGZpbGUubmFtZSwKICAgICAgICAgIGRhdGE6IGJhc2U2NCwKICAgICAgICB9LAogICAgICB9OwoKICAgICAgbGV0IHBlcmNlbnREb25lID0gZmlsZURhdGEuYnl0ZUxlbmd0aCA9PT0gMCA/CiAgICAgICAgICAxMDAgOgogICAgICAgICAgTWF0aC5yb3VuZCgocG9zaXRpb24gLyBmaWxlRGF0YS5ieXRlTGVuZ3RoKSAqIDEwMCk7CiAgICAgIHBlcmNlbnQudGV4dENvbnRlbnQgPSBgJHtwZXJjZW50RG9uZX0lIGRvbmVgOwoKICAgIH0gd2hpbGUgKHBvc2l0aW9uIDwgZmlsZURhdGEuYnl0ZUxlbmd0aCk7CiAgfQoKICAvLyBBbGwgZG9uZS4KICB5aWVsZCB7CiAgICByZXNwb25zZTogewogICAgICBhY3Rpb246ICdjb21wbGV0ZScsCiAgICB9CiAgfTsKfQoKc2NvcGUuZ29vZ2xlID0gc2NvcGUuZ29vZ2xlIHx8IHt9OwpzY29wZS5nb29nbGUuY29sYWIgPSBzY29wZS5nb29nbGUuY29sYWIgfHwge307CnNjb3BlLmdvb2dsZS5jb2xhYi5fZmlsZXMgPSB7CiAgX3VwbG9hZEZpbGVzLAogIF91cGxvYWRGaWxlc0NvbnRpbnVlLAp9Owp9KShzZWxmKTsK",
              "ok": true,
              "headers": [
                [
                  "content-type",
                  "application/javascript"
                ]
              ],
              "status": 200,
              "status_text": ""
            }
          },
          "base_uri": "https://localhost:8080/",
          "height": 73
        },
        "id": "9e1fVhR3eSxU",
        "outputId": "86982ee8-b72d-4b9a-e116-1714e13de6e6"
      },
      "source": [
        "from google.colab import files\n",
        "files = files.upload()"
      ],
      "execution_count": 2,
      "outputs": [
        {
          "output_type": "display_data",
          "data": {
            "text/html": [
              "\n",
              "     <input type=\"file\" id=\"files-f41956ad-2a6f-428f-96e0-02e519720210\" name=\"files[]\" multiple disabled\n",
              "        style=\"border:none\" />\n",
              "     <output id=\"result-f41956ad-2a6f-428f-96e0-02e519720210\">\n",
              "      Upload widget is only available when the cell has been executed in the\n",
              "      current browser session. Please rerun this cell to enable.\n",
              "      </output>\n",
              "      <script src=\"/nbextensions/google.colab/files.js\"></script> "
            ],
            "text/plain": [
              "<IPython.core.display.HTML object>"
            ]
          },
          "metadata": {}
        },
        {
          "output_type": "stream",
          "name": "stdout",
          "text": [
            "Saving orders.xlsx to orders.xlsx\n"
          ]
        }
      ]
    },
    {
      "cell_type": "code",
      "metadata": {
        "colab": {
          "base_uri": "https://localhost:8080/",
          "height": 313
        },
        "id": "Zl1V40EfeRdJ",
        "outputId": "99252b78-f196-4b88-bbd3-0396bb8c6ddd"
      },
      "source": [
        "# Load the data and get the top 5 rows\n",
        "df = pd.read_excel(\"orders.xlsx\")\n",
        "df.head()"
      ],
      "execution_count": 3,
      "outputs": [
        {
          "output_type": "execute_result",
          "data": {
            "text/html": [
              "<div>\n",
              "<style scoped>\n",
              "    .dataframe tbody tr th:only-of-type {\n",
              "        vertical-align: middle;\n",
              "    }\n",
              "\n",
              "    .dataframe tbody tr th {\n",
              "        vertical-align: top;\n",
              "    }\n",
              "\n",
              "    .dataframe thead th {\n",
              "        text-align: right;\n",
              "    }\n",
              "</style>\n",
              "<table border=\"1\" class=\"dataframe\">\n",
              "  <thead>\n",
              "    <tr style=\"text-align: right;\">\n",
              "      <th></th>\n",
              "      <th>order_id</th>\n",
              "      <th>customer_id</th>\n",
              "      <th>merchant_id</th>\n",
              "      <th>order_amount</th>\n",
              "      <th>checkout_started_at</th>\n",
              "      <th>credit_decision_started_at</th>\n",
              "      <th>approved_for_installments</th>\n",
              "      <th>customer_credit_score</th>\n",
              "      <th>customer_age</th>\n",
              "      <th>customer_billing_zip</th>\n",
              "      <th>customer_shipping_zip</th>\n",
              "      <th>paid_installment_1</th>\n",
              "      <th>paid_installment_2</th>\n",
              "      <th>paid_installment_3</th>\n",
              "      <th>paid_installment_4</th>\n",
              "    </tr>\n",
              "  </thead>\n",
              "  <tbody>\n",
              "    <tr>\n",
              "      <th>0</th>\n",
              "      <td>42C39B</td>\n",
              "      <td>9D74A0</td>\n",
              "      <td>6881F9</td>\n",
              "      <td>147.20</td>\n",
              "      <td>2018-10-03 14:26:18.497</td>\n",
              "      <td>2018-10-03 14:26:18.997</td>\n",
              "      <td>True</td>\n",
              "      <td>626</td>\n",
              "      <td>26</td>\n",
              "      <td>95407</td>\n",
              "      <td>95407</td>\n",
              "      <td>1.0</td>\n",
              "      <td>1</td>\n",
              "      <td>1.0</td>\n",
              "      <td>1.0</td>\n",
              "    </tr>\n",
              "    <tr>\n",
              "      <th>1</th>\n",
              "      <td>A19AC4</td>\n",
              "      <td>2629AB</td>\n",
              "      <td>C37828</td>\n",
              "      <td>69.95</td>\n",
              "      <td>2018-09-21 16:55:03.443</td>\n",
              "      <td>2018-09-21 16:55:05.100</td>\n",
              "      <td>True</td>\n",
              "      <td>603</td>\n",
              "      <td>20</td>\n",
              "      <td>85007</td>\n",
              "      <td>85007</td>\n",
              "      <td>1.0</td>\n",
              "      <td>1</td>\n",
              "      <td>1.0</td>\n",
              "      <td>1.0</td>\n",
              "    </tr>\n",
              "    <tr>\n",
              "      <th>2</th>\n",
              "      <td>381AFF</td>\n",
              "      <td>793FE0</td>\n",
              "      <td>252600000000</td>\n",
              "      <td>45.00</td>\n",
              "      <td>2018-09-15 13:41:46.103</td>\n",
              "      <td>2018-09-15 13:41:47.197</td>\n",
              "      <td>True</td>\n",
              "      <td>648</td>\n",
              "      <td>41</td>\n",
              "      <td>30305-2646</td>\n",
              "      <td>30305-2646</td>\n",
              "      <td>1.0</td>\n",
              "      <td>1</td>\n",
              "      <td>1.0</td>\n",
              "      <td>1.0</td>\n",
              "    </tr>\n",
              "    <tr>\n",
              "      <th>3</th>\n",
              "      <td>3184A3</td>\n",
              "      <td>22C696</td>\n",
              "      <td>24FBAF</td>\n",
              "      <td>164.00</td>\n",
              "      <td>2018-10-10 00:59:25.793</td>\n",
              "      <td>2018-10-10 00:59:26.123</td>\n",
              "      <td>True</td>\n",
              "      <td>625</td>\n",
              "      <td>33</td>\n",
              "      <td>28562</td>\n",
              "      <td>28562</td>\n",
              "      <td>1.0</td>\n",
              "      <td>1</td>\n",
              "      <td>1.0</td>\n",
              "      <td>1.0</td>\n",
              "    </tr>\n",
              "    <tr>\n",
              "      <th>4</th>\n",
              "      <td>237711</td>\n",
              "      <td>D4E94A</td>\n",
              "      <td>6F498E</td>\n",
              "      <td>69.17</td>\n",
              "      <td>2018-09-12 22:53:08.970</td>\n",
              "      <td>2018-09-12 22:53:10.923</td>\n",
              "      <td>True</td>\n",
              "      <td>438</td>\n",
              "      <td>18</td>\n",
              "      <td>92324</td>\n",
              "      <td>92324</td>\n",
              "      <td>1.0</td>\n",
              "      <td>1</td>\n",
              "      <td>1.0</td>\n",
              "      <td>1.0</td>\n",
              "    </tr>\n",
              "  </tbody>\n",
              "</table>\n",
              "</div>"
            ],
            "text/plain": [
              "  order_id customer_id  ... paid_installment_3  paid_installment_4\n",
              "0   42C39B      9D74A0  ...                1.0                 1.0\n",
              "1   A19AC4      2629AB  ...                1.0                 1.0\n",
              "2   381AFF      793FE0  ...                1.0                 1.0\n",
              "3   3184A3      22C696  ...                1.0                 1.0\n",
              "4   237711      D4E94A  ...                1.0                 1.0\n",
              "\n",
              "[5 rows x 15 columns]"
            ]
          },
          "metadata": {},
          "execution_count": 3
        }
      ]
    },
    {
      "cell_type": "code",
      "metadata": {
        "colab": {
          "base_uri": "https://localhost:8080/"
        },
        "id": "DYQiTa6eeRdL",
        "outputId": "b8270d41-5676-4a74-8978-df885fec00cb"
      },
      "source": [
        "# Shape of the data\n",
        "df.shape"
      ],
      "execution_count": 4,
      "outputs": [
        {
          "output_type": "execute_result",
          "data": {
            "text/plain": [
              "(10000, 15)"
            ]
          },
          "metadata": {},
          "execution_count": 4
        }
      ]
    },
    {
      "cell_type": "code",
      "metadata": {
        "colab": {
          "base_uri": "https://localhost:8080/"
        },
        "id": "P-odszSveRdM",
        "outputId": "04e95bc0-3b30-4376-afff-765683189b55"
      },
      "source": [
        "# Check the data types for each columns\n",
        "df.dtypes"
      ],
      "execution_count": 5,
      "outputs": [
        {
          "output_type": "execute_result",
          "data": {
            "text/plain": [
              "order_id                              object\n",
              "customer_id                           object\n",
              "merchant_id                           object\n",
              "order_amount                         float64\n",
              "checkout_started_at           datetime64[ns]\n",
              "credit_decision_started_at    datetime64[ns]\n",
              "approved_for_installments               bool\n",
              "customer_credit_score                  int64\n",
              "customer_age                           int64\n",
              "customer_billing_zip                  object\n",
              "customer_shipping_zip                 object\n",
              "paid_installment_1                   float64\n",
              "paid_installment_2                     int64\n",
              "paid_installment_3                   float64\n",
              "paid_installment_4                   float64\n",
              "dtype: object"
            ]
          },
          "metadata": {},
          "execution_count": 5
        }
      ]
    },
    {
      "cell_type": "code",
      "metadata": {
        "colab": {
          "base_uri": "https://localhost:8080/"
        },
        "id": "ilyW0NTeeRdN",
        "outputId": "9a8842b4-dfaf-436e-da52-64f6d5ee8cad"
      },
      "source": [
        "# Get the info of the dataframe\n",
        "df.info()"
      ],
      "execution_count": 6,
      "outputs": [
        {
          "output_type": "stream",
          "name": "stdout",
          "text": [
            "<class 'pandas.core.frame.DataFrame'>\n",
            "RangeIndex: 10000 entries, 0 to 9999\n",
            "Data columns (total 15 columns):\n",
            " #   Column                      Non-Null Count  Dtype         \n",
            "---  ------                      --------------  -----         \n",
            " 0   order_id                    10000 non-null  object        \n",
            " 1   customer_id                 10000 non-null  object        \n",
            " 2   merchant_id                 10000 non-null  object        \n",
            " 3   order_amount                10000 non-null  float64       \n",
            " 4   checkout_started_at         10000 non-null  datetime64[ns]\n",
            " 5   credit_decision_started_at  10000 non-null  datetime64[ns]\n",
            " 6   approved_for_installments   10000 non-null  bool          \n",
            " 7   customer_credit_score       10000 non-null  int64         \n",
            " 8   customer_age                10000 non-null  int64         \n",
            " 9   customer_billing_zip        9989 non-null   object        \n",
            " 10  customer_shipping_zip       9977 non-null   object        \n",
            " 11  paid_installment_1          9998 non-null   float64       \n",
            " 12  paid_installment_2          10000 non-null  int64         \n",
            " 13  paid_installment_3          9996 non-null   float64       \n",
            " 14  paid_installment_4          9423 non-null   float64       \n",
            "dtypes: bool(1), datetime64[ns](2), float64(4), int64(3), object(5)\n",
            "memory usage: 1.1+ MB\n"
          ]
        }
      ]
    },
    {
      "cell_type": "code",
      "metadata": {
        "colab": {
          "base_uri": "https://localhost:8080/"
        },
        "id": "VllOgZIKeRdN",
        "outputId": "778c530f-55ee-4af1-c13c-2a76c607fc04"
      },
      "source": [
        "# Columns of the data\n",
        "df.columns"
      ],
      "execution_count": 7,
      "outputs": [
        {
          "output_type": "execute_result",
          "data": {
            "text/plain": [
              "Index(['order_id', 'customer_id', 'merchant_id', 'order_amount',\n",
              "       'checkout_started_at', 'credit_decision_started_at',\n",
              "       'approved_for_installments', 'customer_credit_score', 'customer_age',\n",
              "       'customer_billing_zip', 'customer_shipping_zip', 'paid_installment_1',\n",
              "       'paid_installment_2', 'paid_installment_3', 'paid_installment_4'],\n",
              "      dtype='object')"
            ]
          },
          "metadata": {},
          "execution_count": 7
        }
      ]
    },
    {
      "cell_type": "code",
      "metadata": {
        "colab": {
          "base_uri": "https://localhost:8080/"
        },
        "id": "pNZ6zh58eRdO",
        "outputId": "4e461be1-52fe-49d3-ecbc-ba1ce362a956"
      },
      "source": [
        "# Get the count of empty values of each columns\n",
        "df.isna().sum()"
      ],
      "execution_count": 8,
      "outputs": [
        {
          "output_type": "execute_result",
          "data": {
            "text/plain": [
              "order_id                        0\n",
              "customer_id                     0\n",
              "merchant_id                     0\n",
              "order_amount                    0\n",
              "checkout_started_at             0\n",
              "credit_decision_started_at      0\n",
              "approved_for_installments       0\n",
              "customer_credit_score           0\n",
              "customer_age                    0\n",
              "customer_billing_zip           11\n",
              "customer_shipping_zip          23\n",
              "paid_installment_1              2\n",
              "paid_installment_2              0\n",
              "paid_installment_3              4\n",
              "paid_installment_4            577\n",
              "dtype: int64"
            ]
          },
          "metadata": {},
          "execution_count": 8
        }
      ]
    },
    {
      "cell_type": "code",
      "metadata": {
        "colab": {
          "base_uri": "https://localhost:8080/",
          "height": 300
        },
        "id": "LLB3XqD-IGOy",
        "outputId": "2090db9b-321d-4f22-de99-849cfcf06871"
      },
      "source": [
        "df.describe()"
      ],
      "execution_count": 9,
      "outputs": [
        {
          "output_type": "execute_result",
          "data": {
            "text/html": [
              "<div>\n",
              "<style scoped>\n",
              "    .dataframe tbody tr th:only-of-type {\n",
              "        vertical-align: middle;\n",
              "    }\n",
              "\n",
              "    .dataframe tbody tr th {\n",
              "        vertical-align: top;\n",
              "    }\n",
              "\n",
              "    .dataframe thead th {\n",
              "        text-align: right;\n",
              "    }\n",
              "</style>\n",
              "<table border=\"1\" class=\"dataframe\">\n",
              "  <thead>\n",
              "    <tr style=\"text-align: right;\">\n",
              "      <th></th>\n",
              "      <th>order_amount</th>\n",
              "      <th>customer_credit_score</th>\n",
              "      <th>customer_age</th>\n",
              "      <th>paid_installment_1</th>\n",
              "      <th>paid_installment_2</th>\n",
              "      <th>paid_installment_3</th>\n",
              "      <th>paid_installment_4</th>\n",
              "    </tr>\n",
              "  </thead>\n",
              "  <tbody>\n",
              "    <tr>\n",
              "      <th>count</th>\n",
              "      <td>10000.000000</td>\n",
              "      <td>10000.000000</td>\n",
              "      <td>10000.000000</td>\n",
              "      <td>9998.0</td>\n",
              "      <td>10000.000000</td>\n",
              "      <td>9996.000000</td>\n",
              "      <td>9423.000000</td>\n",
              "    </tr>\n",
              "    <tr>\n",
              "      <th>mean</th>\n",
              "      <td>146.252272</td>\n",
              "      <td>613.435900</td>\n",
              "      <td>33.544300</td>\n",
              "      <td>1.0</td>\n",
              "      <td>0.977900</td>\n",
              "      <td>0.959684</td>\n",
              "      <td>0.940359</td>\n",
              "    </tr>\n",
              "    <tr>\n",
              "      <th>std</th>\n",
              "      <td>167.883106</td>\n",
              "      <td>92.555118</td>\n",
              "      <td>11.933729</td>\n",
              "      <td>0.0</td>\n",
              "      <td>0.147016</td>\n",
              "      <td>0.196709</td>\n",
              "      <td>0.236834</td>\n",
              "    </tr>\n",
              "    <tr>\n",
              "      <th>min</th>\n",
              "      <td>4.950000</td>\n",
              "      <td>1.000000</td>\n",
              "      <td>18.000000</td>\n",
              "      <td>1.0</td>\n",
              "      <td>0.000000</td>\n",
              "      <td>0.000000</td>\n",
              "      <td>0.000000</td>\n",
              "    </tr>\n",
              "    <tr>\n",
              "      <th>25%</th>\n",
              "      <td>64.000000</td>\n",
              "      <td>562.000000</td>\n",
              "      <td>24.000000</td>\n",
              "      <td>1.0</td>\n",
              "      <td>1.000000</td>\n",
              "      <td>1.000000</td>\n",
              "      <td>1.000000</td>\n",
              "    </tr>\n",
              "    <tr>\n",
              "      <th>50%</th>\n",
              "      <td>90.765000</td>\n",
              "      <td>611.000000</td>\n",
              "      <td>30.000000</td>\n",
              "      <td>1.0</td>\n",
              "      <td>1.000000</td>\n",
              "      <td>1.000000</td>\n",
              "      <td>1.000000</td>\n",
              "    </tr>\n",
              "    <tr>\n",
              "      <th>75%</th>\n",
              "      <td>155.000000</td>\n",
              "      <td>664.000000</td>\n",
              "      <td>40.250000</td>\n",
              "      <td>1.0</td>\n",
              "      <td>1.000000</td>\n",
              "      <td>1.000000</td>\n",
              "      <td>1.000000</td>\n",
              "    </tr>\n",
              "    <tr>\n",
              "      <th>max</th>\n",
              "      <td>1936.000000</td>\n",
              "      <td>836.000000</td>\n",
              "      <td>89.000000</td>\n",
              "      <td>1.0</td>\n",
              "      <td>1.000000</td>\n",
              "      <td>1.000000</td>\n",
              "      <td>1.000000</td>\n",
              "    </tr>\n",
              "  </tbody>\n",
              "</table>\n",
              "</div>"
            ],
            "text/plain": [
              "       order_amount  ...  paid_installment_4\n",
              "count  10000.000000  ...         9423.000000\n",
              "mean     146.252272  ...            0.940359\n",
              "std      167.883106  ...            0.236834\n",
              "min        4.950000  ...            0.000000\n",
              "25%       64.000000  ...            1.000000\n",
              "50%       90.765000  ...            1.000000\n",
              "75%      155.000000  ...            1.000000\n",
              "max     1936.000000  ...            1.000000\n",
              "\n",
              "[8 rows x 7 columns]"
            ]
          },
          "metadata": {},
          "execution_count": 9
        }
      ]
    },
    {
      "cell_type": "code",
      "metadata": {
        "colab": {
          "base_uri": "https://localhost:8080/",
          "height": 299
        },
        "id": "VE1mkE6qIZPb",
        "outputId": "c46ab7b5-9fb6-4ba2-802c-2d96ef9ca469"
      },
      "source": [
        "# Plot a distribution graph for order amount\n",
        "sns.distplot(df[\"order_amount\"])"
      ],
      "execution_count": 10,
      "outputs": [
        {
          "output_type": "execute_result",
          "data": {
            "text/plain": [
              "<matplotlib.axes._subplots.AxesSubplot at 0x7ff658586550>"
            ]
          },
          "metadata": {},
          "execution_count": 10
        },
        {
          "output_type": "display_data",
          "data": {
            "image/png": "[encoded data removed]",
            "text/plain": [
              "<Figure size 432x288 with 1 Axes>"
            ]
          },
          "metadata": {
            "needs_background": "light"
          }
        }
      ]
    },
    {
      "cell_type": "code",
      "metadata": {
        "colab": {
          "base_uri": "https://localhost:8080/",
          "height": 299
        },
        "id": "bpv5kWf9Kya_",
        "outputId": "3d869846-d126-446f-f2a8-813e3d9032a5"
      },
      "source": [
        "# Plot a distribution graph for customer credit score\n",
        "sns.distplot(df[\"customer_credit_score\"])"
      ],
      "execution_count": 11,
      "outputs": [
        {
          "output_type": "execute_result",
          "data": {
            "text/plain": [
              "<matplotlib.axes._subplots.AxesSubplot at 0x7ff65878ce90>"
            ]
          },
          "metadata": {},
          "execution_count": 11
        },
        {
          "output_type": "display_data",
          "data": {
            "image/png": "[encoded data removed]",
            "text/plain": [
              "<Figure size 432x288 with 1 Axes>"
            ]
          },
          "metadata": {
            "needs_background": "light"
          }
        }
      ]
    },
    {
      "cell_type": "code",
      "metadata": {
        "colab": {
          "base_uri": "https://localhost:8080/",
          "height": 299
        },
        "id": "0Z_aefYEI11X",
        "outputId": "abf25936-843b-4195-f8cf-22be45aa0deb"
      },
      "source": [
        "# Plot a distribution graph for customer age\n",
        "sns.distplot(df[\"customer_age\"])"
      ],
      "execution_count": 12,
      "outputs": [
        {
          "output_type": "execute_result",
          "data": {
            "text/plain": [
              "<matplotlib.axes._subplots.AxesSubplot at 0x7ff658670990>"
            ]
          },
          "metadata": {},
          "execution_count": 12
        },
        {
          "output_type": "display_data",
          "data": {
            "image/png": "[encoded data removed]",
            "text/plain": [
              "<Figure size 432x288 with 1 Axes>"
            ]
          },
          "metadata": {
            "needs_background": "light"
          }
        }
      ]
    },
    {
      "cell_type": "markdown",
      "metadata": {
        "id": "MIpKg-cieRdP"
      },
      "source": [
        "Observation:\n",
        "\n",
        "We can see there are total 15 columns, all of them are self explanatory.\n",
        "We also see some missing values, lets take stock of missing columns and what are the possible values for categorical and numerical columns"
      ]
    },
    {
      "cell_type": "markdown",
      "metadata": {
        "id": "AeD3QCjreRdT"
      },
      "source": [
        "Observation:\n",
        "\n",
        "We need to identify columns that contain a single Value and delete that Columns.\n",
        "We need to identify columns which is not useful in our model and delete that columns."
      ]
    },
    {
      "cell_type": "code",
      "metadata": {
        "colab": {
          "base_uri": "https://localhost:8080/"
        },
        "id": "ykXLhJtaeRdU",
        "outputId": "c9aa379b-8903-45bc-b648-9f6d64f1bce2"
      },
      "source": [
        "print(df.nunique())"
      ],
      "execution_count": 13,
      "outputs": [
        {
          "output_type": "stream",
          "name": "stdout",
          "text": [
            "order_id                       9991\n",
            "customer_id                    8932\n",
            "merchant_id                     105\n",
            "order_amount                   4250\n",
            "checkout_started_at           10000\n",
            "credit_decision_started_at     9993\n",
            "approved_for_installments         1\n",
            "customer_credit_score           448\n",
            "customer_age                     66\n",
            "customer_billing_zip           5529\n",
            "customer_shipping_zip          5488\n",
            "paid_installment_1                1\n",
            "paid_installment_2                2\n",
            "paid_installment_3                2\n",
            "paid_installment_4                2\n",
            "dtype: int64\n"
          ]
        }
      ]
    },
    {
      "cell_type": "markdown",
      "metadata": {
        "id": "-vyXnugBeRdV"
      },
      "source": [
        "Observation: \n",
        "\n",
        "One way to deal with categorical variables like zip codes is to split them into dummy variables. This is what “One Hot Encoder” does. When you have a categorical variable with 5000 unique values, dummy variables really won’t be much help, unfortunately. Using “One Hot Encoder” on zip code means you’ll create 5000 new independent variables.\n",
        "If you have 1-2 people in a zip code and one is a customer, the penetration rate would be extremely high (50%). This high number doesn’t mean that the zip code is fertile grounds for prospecting. Maybe it is. Maybe it isn’t. If you only have two people in your sample, the statistic really has no value."
      ]
    },
    {
      "cell_type": "code",
      "metadata": {
        "id": "-DvhKQtFeRdW"
      },
      "source": [
        "\n",
        "# Dropping order_id, customer_id, merchant_id, checkout_started_at, credit_decision_started_at, approved_for_installments, \n",
        "# customer_billing_zip, customer_shipping_zip\n",
        "df = df.drop(columns = [\"order_id\", \"customer_id\", \"merchant_id\", \"checkout_started_at\", \"credit_decision_started_at\", \n",
        "                        \"approved_for_installments\", \"customer_billing_zip\", \"customer_shipping_zip\"])"
      ],
      "execution_count": 14,
      "outputs": []
    },
    {
      "cell_type": "code",
      "metadata": {
        "colab": {
          "base_uri": "https://localhost:8080/",
          "height": 424
        },
        "id": "XpbHyZeSeRdW",
        "outputId": "f68cb261-65ba-4460-bef6-95fddd2ccc5f"
      },
      "source": [
        "# Look at our new dataframe\n",
        "df"
      ],
      "execution_count": 15,
      "outputs": [
        {
          "output_type": "execute_result",
          "data": {
            "text/html": [
              "<div>\n",
              "<style scoped>\n",
              "    .dataframe tbody tr th:only-of-type {\n",
              "        vertical-align: middle;\n",
              "    }\n",
              "\n",
              "    .dataframe tbody tr th {\n",
              "        vertical-align: top;\n",
              "    }\n",
              "\n",
              "    .dataframe thead th {\n",
              "        text-align: right;\n",
              "    }\n",
              "</style>\n",
              "<table border=\"1\" class=\"dataframe\">\n",
              "  <thead>\n",
              "    <tr style=\"text-align: right;\">\n",
              "      <th></th>\n",
              "      <th>order_amount</th>\n",
              "      <th>customer_credit_score</th>\n",
              "      <th>customer_age</th>\n",
              "      <th>paid_installment_1</th>\n",
              "      <th>paid_installment_2</th>\n",
              "      <th>paid_installment_3</th>\n",
              "      <th>paid_installment_4</th>\n",
              "    </tr>\n",
              "  </thead>\n",
              "  <tbody>\n",
              "    <tr>\n",
              "      <th>0</th>\n",
              "      <td>147.20</td>\n",
              "      <td>626</td>\n",
              "      <td>26</td>\n",
              "      <td>1.0</td>\n",
              "      <td>1</td>\n",
              "      <td>1.0</td>\n",
              "      <td>1.0</td>\n",
              "    </tr>\n",
              "    <tr>\n",
              "      <th>1</th>\n",
              "      <td>69.95</td>\n",
              "      <td>603</td>\n",
              "      <td>20</td>\n",
              "      <td>1.0</td>\n",
              "      <td>1</td>\n",
              "      <td>1.0</td>\n",
              "      <td>1.0</td>\n",
              "    </tr>\n",
              "    <tr>\n",
              "      <th>2</th>\n",
              "      <td>45.00</td>\n",
              "      <td>648</td>\n",
              "      <td>41</td>\n",
              "      <td>1.0</td>\n",
              "      <td>1</td>\n",
              "      <td>1.0</td>\n",
              "      <td>1.0</td>\n",
              "    </tr>\n",
              "    <tr>\n",
              "      <th>3</th>\n",
              "      <td>164.00</td>\n",
              "      <td>625</td>\n",
              "      <td>33</td>\n",
              "      <td>1.0</td>\n",
              "      <td>1</td>\n",
              "      <td>1.0</td>\n",
              "      <td>1.0</td>\n",
              "    </tr>\n",
              "    <tr>\n",
              "      <th>4</th>\n",
              "      <td>69.17</td>\n",
              "      <td>438</td>\n",
              "      <td>18</td>\n",
              "      <td>1.0</td>\n",
              "      <td>1</td>\n",
              "      <td>1.0</td>\n",
              "      <td>1.0</td>\n",
              "    </tr>\n",
              "    <tr>\n",
              "      <th>...</th>\n",
              "      <td>...</td>\n",
              "      <td>...</td>\n",
              "      <td>...</td>\n",
              "      <td>...</td>\n",
              "      <td>...</td>\n",
              "      <td>...</td>\n",
              "      <td>...</td>\n",
              "    </tr>\n",
              "    <tr>\n",
              "      <th>9995</th>\n",
              "      <td>63.66</td>\n",
              "      <td>613</td>\n",
              "      <td>37</td>\n",
              "      <td>1.0</td>\n",
              "      <td>1</td>\n",
              "      <td>1.0</td>\n",
              "      <td>1.0</td>\n",
              "    </tr>\n",
              "    <tr>\n",
              "      <th>9996</th>\n",
              "      <td>83.89</td>\n",
              "      <td>771</td>\n",
              "      <td>34</td>\n",
              "      <td>1.0</td>\n",
              "      <td>1</td>\n",
              "      <td>1.0</td>\n",
              "      <td>1.0</td>\n",
              "    </tr>\n",
              "    <tr>\n",
              "      <th>9997</th>\n",
              "      <td>95.25</td>\n",
              "      <td>611</td>\n",
              "      <td>45</td>\n",
              "      <td>1.0</td>\n",
              "      <td>1</td>\n",
              "      <td>1.0</td>\n",
              "      <td>1.0</td>\n",
              "    </tr>\n",
              "    <tr>\n",
              "      <th>9998</th>\n",
              "      <td>79.95</td>\n",
              "      <td>611</td>\n",
              "      <td>18</td>\n",
              "      <td>1.0</td>\n",
              "      <td>1</td>\n",
              "      <td>1.0</td>\n",
              "      <td>1.0</td>\n",
              "    </tr>\n",
              "    <tr>\n",
              "      <th>9999</th>\n",
              "      <td>15.50</td>\n",
              "      <td>611</td>\n",
              "      <td>19</td>\n",
              "      <td>1.0</td>\n",
              "      <td>1</td>\n",
              "      <td>1.0</td>\n",
              "      <td>1.0</td>\n",
              "    </tr>\n",
              "  </tbody>\n",
              "</table>\n",
              "<p>10000 rows × 7 columns</p>\n",
              "</div>"
            ],
            "text/plain": [
              "      order_amount  ...  paid_installment_4\n",
              "0           147.20  ...                 1.0\n",
              "1            69.95  ...                 1.0\n",
              "2            45.00  ...                 1.0\n",
              "3           164.00  ...                 1.0\n",
              "4            69.17  ...                 1.0\n",
              "...            ...  ...                 ...\n",
              "9995         63.66  ...                 1.0\n",
              "9996         83.89  ...                 1.0\n",
              "9997         95.25  ...                 1.0\n",
              "9998         79.95  ...                 1.0\n",
              "9999         15.50  ...                 1.0\n",
              "\n",
              "[10000 rows x 7 columns]"
            ]
          },
          "metadata": {},
          "execution_count": 15
        }
      ]
    },
    {
      "cell_type": "code",
      "metadata": {
        "colab": {
          "base_uri": "https://localhost:8080/",
          "height": 1000
        },
        "id": "VYZnvOudeRdX",
        "outputId": "dee340d3-ea42-406a-b613-8f9c46729a62"
      },
      "source": [
        "# Finding the Outliers for customer_credit_score\n",
        "df[(df[\"customer_credit_score\"] > 900) | (df[\"customer_credit_score\"] < 300)]"
      ],
      "execution_count": 16,
      "outputs": [
        {
          "output_type": "execute_result",
          "data": {
            "text/html": [
              "<div>\n",
              "<style scoped>\n",
              "    .dataframe tbody tr th:only-of-type {\n",
              "        vertical-align: middle;\n",
              "    }\n",
              "\n",
              "    .dataframe tbody tr th {\n",
              "        vertical-align: top;\n",
              "    }\n",
              "\n",
              "    .dataframe thead th {\n",
              "        text-align: right;\n",
              "    }\n",
              "</style>\n",
              "<table border=\"1\" class=\"dataframe\">\n",
              "  <thead>\n",
              "    <tr style=\"text-align: right;\">\n",
              "      <th></th>\n",
              "      <th>order_amount</th>\n",
              "      <th>customer_credit_score</th>\n",
              "      <th>customer_age</th>\n",
              "      <th>paid_installment_1</th>\n",
              "      <th>paid_installment_2</th>\n",
              "      <th>paid_installment_3</th>\n",
              "      <th>paid_installment_4</th>\n",
              "    </tr>\n",
              "  </thead>\n",
              "  <tbody>\n",
              "    <tr>\n",
              "      <th>77</th>\n",
              "      <td>49.80</td>\n",
              "      <td>1</td>\n",
              "      <td>71</td>\n",
              "      <td>1.0</td>\n",
              "      <td>1</td>\n",
              "      <td>1.0</td>\n",
              "      <td>1.0</td>\n",
              "    </tr>\n",
              "    <tr>\n",
              "      <th>125</th>\n",
              "      <td>116.99</td>\n",
              "      <td>1</td>\n",
              "      <td>34</td>\n",
              "      <td>1.0</td>\n",
              "      <td>1</td>\n",
              "      <td>1.0</td>\n",
              "      <td>1.0</td>\n",
              "    </tr>\n",
              "    <tr>\n",
              "      <th>469</th>\n",
              "      <td>579.58</td>\n",
              "      <td>1</td>\n",
              "      <td>28</td>\n",
              "      <td>1.0</td>\n",
              "      <td>1</td>\n",
              "      <td>1.0</td>\n",
              "      <td>1.0</td>\n",
              "    </tr>\n",
              "    <tr>\n",
              "      <th>678</th>\n",
              "      <td>125.21</td>\n",
              "      <td>1</td>\n",
              "      <td>60</td>\n",
              "      <td>1.0</td>\n",
              "      <td>1</td>\n",
              "      <td>1.0</td>\n",
              "      <td>1.0</td>\n",
              "    </tr>\n",
              "    <tr>\n",
              "      <th>888</th>\n",
              "      <td>90.00</td>\n",
              "      <td>1</td>\n",
              "      <td>40</td>\n",
              "      <td>1.0</td>\n",
              "      <td>1</td>\n",
              "      <td>1.0</td>\n",
              "      <td>1.0</td>\n",
              "    </tr>\n",
              "    <tr>\n",
              "      <th>1187</th>\n",
              "      <td>130.90</td>\n",
              "      <td>1</td>\n",
              "      <td>48</td>\n",
              "      <td>1.0</td>\n",
              "      <td>1</td>\n",
              "      <td>1.0</td>\n",
              "      <td>1.0</td>\n",
              "    </tr>\n",
              "    <tr>\n",
              "      <th>1235</th>\n",
              "      <td>170.19</td>\n",
              "      <td>1</td>\n",
              "      <td>62</td>\n",
              "      <td>1.0</td>\n",
              "      <td>1</td>\n",
              "      <td>1.0</td>\n",
              "      <td>1.0</td>\n",
              "    </tr>\n",
              "    <tr>\n",
              "      <th>1497</th>\n",
              "      <td>131.87</td>\n",
              "      <td>1</td>\n",
              "      <td>30</td>\n",
              "      <td>1.0</td>\n",
              "      <td>1</td>\n",
              "      <td>1.0</td>\n",
              "      <td>1.0</td>\n",
              "    </tr>\n",
              "    <tr>\n",
              "      <th>1502</th>\n",
              "      <td>139.01</td>\n",
              "      <td>1</td>\n",
              "      <td>33</td>\n",
              "      <td>1.0</td>\n",
              "      <td>1</td>\n",
              "      <td>1.0</td>\n",
              "      <td>1.0</td>\n",
              "    </tr>\n",
              "    <tr>\n",
              "      <th>1766</th>\n",
              "      <td>820.00</td>\n",
              "      <td>1</td>\n",
              "      <td>38</td>\n",
              "      <td>1.0</td>\n",
              "      <td>1</td>\n",
              "      <td>1.0</td>\n",
              "      <td>1.0</td>\n",
              "    </tr>\n",
              "    <tr>\n",
              "      <th>2104</th>\n",
              "      <td>79.98</td>\n",
              "      <td>1</td>\n",
              "      <td>32</td>\n",
              "      <td>1.0</td>\n",
              "      <td>1</td>\n",
              "      <td>1.0</td>\n",
              "      <td>1.0</td>\n",
              "    </tr>\n",
              "    <tr>\n",
              "      <th>2273</th>\n",
              "      <td>56.14</td>\n",
              "      <td>1</td>\n",
              "      <td>29</td>\n",
              "      <td>1.0</td>\n",
              "      <td>1</td>\n",
              "      <td>1.0</td>\n",
              "      <td>1.0</td>\n",
              "    </tr>\n",
              "    <tr>\n",
              "      <th>2316</th>\n",
              "      <td>45.00</td>\n",
              "      <td>1</td>\n",
              "      <td>40</td>\n",
              "      <td>1.0</td>\n",
              "      <td>1</td>\n",
              "      <td>1.0</td>\n",
              "      <td>1.0</td>\n",
              "    </tr>\n",
              "    <tr>\n",
              "      <th>2410</th>\n",
              "      <td>57.00</td>\n",
              "      <td>1</td>\n",
              "      <td>25</td>\n",
              "      <td>1.0</td>\n",
              "      <td>1</td>\n",
              "      <td>1.0</td>\n",
              "      <td>1.0</td>\n",
              "    </tr>\n",
              "    <tr>\n",
              "      <th>2527</th>\n",
              "      <td>75.08</td>\n",
              "      <td>1</td>\n",
              "      <td>29</td>\n",
              "      <td>1.0</td>\n",
              "      <td>1</td>\n",
              "      <td>1.0</td>\n",
              "      <td>1.0</td>\n",
              "    </tr>\n",
              "    <tr>\n",
              "      <th>2605</th>\n",
              "      <td>118.15</td>\n",
              "      <td>1</td>\n",
              "      <td>57</td>\n",
              "      <td>1.0</td>\n",
              "      <td>1</td>\n",
              "      <td>1.0</td>\n",
              "      <td>1.0</td>\n",
              "    </tr>\n",
              "    <tr>\n",
              "      <th>3006</th>\n",
              "      <td>320.00</td>\n",
              "      <td>1</td>\n",
              "      <td>43</td>\n",
              "      <td>1.0</td>\n",
              "      <td>1</td>\n",
              "      <td>1.0</td>\n",
              "      <td>1.0</td>\n",
              "    </tr>\n",
              "    <tr>\n",
              "      <th>3092</th>\n",
              "      <td>189.87</td>\n",
              "      <td>1</td>\n",
              "      <td>30</td>\n",
              "      <td>1.0</td>\n",
              "      <td>1</td>\n",
              "      <td>1.0</td>\n",
              "      <td>1.0</td>\n",
              "    </tr>\n",
              "    <tr>\n",
              "      <th>3100</th>\n",
              "      <td>248.00</td>\n",
              "      <td>1</td>\n",
              "      <td>30</td>\n",
              "      <td>1.0</td>\n",
              "      <td>1</td>\n",
              "      <td>1.0</td>\n",
              "      <td>1.0</td>\n",
              "    </tr>\n",
              "    <tr>\n",
              "      <th>3352</th>\n",
              "      <td>76.29</td>\n",
              "      <td>1</td>\n",
              "      <td>43</td>\n",
              "      <td>1.0</td>\n",
              "      <td>1</td>\n",
              "      <td>1.0</td>\n",
              "      <td>1.0</td>\n",
              "    </tr>\n",
              "    <tr>\n",
              "      <th>4190</th>\n",
              "      <td>76.29</td>\n",
              "      <td>1</td>\n",
              "      <td>33</td>\n",
              "      <td>1.0</td>\n",
              "      <td>1</td>\n",
              "      <td>1.0</td>\n",
              "      <td>1.0</td>\n",
              "    </tr>\n",
              "    <tr>\n",
              "      <th>4201</th>\n",
              "      <td>178.00</td>\n",
              "      <td>1</td>\n",
              "      <td>50</td>\n",
              "      <td>1.0</td>\n",
              "      <td>1</td>\n",
              "      <td>1.0</td>\n",
              "      <td>1.0</td>\n",
              "    </tr>\n",
              "    <tr>\n",
              "      <th>4292</th>\n",
              "      <td>345.00</td>\n",
              "      <td>1</td>\n",
              "      <td>40</td>\n",
              "      <td>1.0</td>\n",
              "      <td>1</td>\n",
              "      <td>1.0</td>\n",
              "      <td>1.0</td>\n",
              "    </tr>\n",
              "    <tr>\n",
              "      <th>4519</th>\n",
              "      <td>135.42</td>\n",
              "      <td>1</td>\n",
              "      <td>62</td>\n",
              "      <td>1.0</td>\n",
              "      <td>1</td>\n",
              "      <td>1.0</td>\n",
              "      <td>1.0</td>\n",
              "    </tr>\n",
              "    <tr>\n",
              "      <th>4783</th>\n",
              "      <td>69.95</td>\n",
              "      <td>1</td>\n",
              "      <td>45</td>\n",
              "      <td>1.0</td>\n",
              "      <td>1</td>\n",
              "      <td>1.0</td>\n",
              "      <td>1.0</td>\n",
              "    </tr>\n",
              "    <tr>\n",
              "      <th>4819</th>\n",
              "      <td>71.87</td>\n",
              "      <td>1</td>\n",
              "      <td>30</td>\n",
              "      <td>1.0</td>\n",
              "      <td>1</td>\n",
              "      <td>1.0</td>\n",
              "      <td>1.0</td>\n",
              "    </tr>\n",
              "    <tr>\n",
              "      <th>5178</th>\n",
              "      <td>266.00</td>\n",
              "      <td>1</td>\n",
              "      <td>25</td>\n",
              "      <td>1.0</td>\n",
              "      <td>1</td>\n",
              "      <td>1.0</td>\n",
              "      <td>1.0</td>\n",
              "    </tr>\n",
              "    <tr>\n",
              "      <th>5196</th>\n",
              "      <td>213.98</td>\n",
              "      <td>1</td>\n",
              "      <td>19</td>\n",
              "      <td>1.0</td>\n",
              "      <td>1</td>\n",
              "      <td>1.0</td>\n",
              "      <td>1.0</td>\n",
              "    </tr>\n",
              "    <tr>\n",
              "      <th>5557</th>\n",
              "      <td>174.98</td>\n",
              "      <td>1</td>\n",
              "      <td>19</td>\n",
              "      <td>1.0</td>\n",
              "      <td>1</td>\n",
              "      <td>1.0</td>\n",
              "      <td>1.0</td>\n",
              "    </tr>\n",
              "    <tr>\n",
              "      <th>6116</th>\n",
              "      <td>114.00</td>\n",
              "      <td>1</td>\n",
              "      <td>39</td>\n",
              "      <td>1.0</td>\n",
              "      <td>1</td>\n",
              "      <td>1.0</td>\n",
              "      <td>1.0</td>\n",
              "    </tr>\n",
              "    <tr>\n",
              "      <th>6140</th>\n",
              "      <td>111.96</td>\n",
              "      <td>1</td>\n",
              "      <td>49</td>\n",
              "      <td>1.0</td>\n",
              "      <td>1</td>\n",
              "      <td>1.0</td>\n",
              "      <td>1.0</td>\n",
              "    </tr>\n",
              "    <tr>\n",
              "      <th>6147</th>\n",
              "      <td>86.78</td>\n",
              "      <td>1</td>\n",
              "      <td>20</td>\n",
              "      <td>1.0</td>\n",
              "      <td>1</td>\n",
              "      <td>1.0</td>\n",
              "      <td>1.0</td>\n",
              "    </tr>\n",
              "    <tr>\n",
              "      <th>6335</th>\n",
              "      <td>104.44</td>\n",
              "      <td>1</td>\n",
              "      <td>68</td>\n",
              "      <td>1.0</td>\n",
              "      <td>1</td>\n",
              "      <td>1.0</td>\n",
              "      <td>1.0</td>\n",
              "    </tr>\n",
              "    <tr>\n",
              "      <th>6538</th>\n",
              "      <td>203.00</td>\n",
              "      <td>1</td>\n",
              "      <td>25</td>\n",
              "      <td>1.0</td>\n",
              "      <td>1</td>\n",
              "      <td>1.0</td>\n",
              "      <td>1.0</td>\n",
              "    </tr>\n",
              "    <tr>\n",
              "      <th>6569</th>\n",
              "      <td>202.50</td>\n",
              "      <td>1</td>\n",
              "      <td>45</td>\n",
              "      <td>1.0</td>\n",
              "      <td>1</td>\n",
              "      <td>1.0</td>\n",
              "      <td>1.0</td>\n",
              "    </tr>\n",
              "    <tr>\n",
              "      <th>6584</th>\n",
              "      <td>132.96</td>\n",
              "      <td>1</td>\n",
              "      <td>40</td>\n",
              "      <td>1.0</td>\n",
              "      <td>1</td>\n",
              "      <td>1.0</td>\n",
              "      <td>1.0</td>\n",
              "    </tr>\n",
              "    <tr>\n",
              "      <th>6607</th>\n",
              "      <td>345.00</td>\n",
              "      <td>1</td>\n",
              "      <td>40</td>\n",
              "      <td>1.0</td>\n",
              "      <td>1</td>\n",
              "      <td>1.0</td>\n",
              "      <td>1.0</td>\n",
              "    </tr>\n",
              "    <tr>\n",
              "      <th>6912</th>\n",
              "      <td>280.25</td>\n",
              "      <td>1</td>\n",
              "      <td>33</td>\n",
              "      <td>1.0</td>\n",
              "      <td>1</td>\n",
              "      <td>1.0</td>\n",
              "      <td>1.0</td>\n",
              "    </tr>\n",
              "    <tr>\n",
              "      <th>7113</th>\n",
              "      <td>43.40</td>\n",
              "      <td>1</td>\n",
              "      <td>40</td>\n",
              "      <td>1.0</td>\n",
              "      <td>1</td>\n",
              "      <td>1.0</td>\n",
              "      <td>1.0</td>\n",
              "    </tr>\n",
              "    <tr>\n",
              "      <th>7121</th>\n",
              "      <td>64.00</td>\n",
              "      <td>1</td>\n",
              "      <td>26</td>\n",
              "      <td>1.0</td>\n",
              "      <td>1</td>\n",
              "      <td>1.0</td>\n",
              "      <td>1.0</td>\n",
              "    </tr>\n",
              "    <tr>\n",
              "      <th>7144</th>\n",
              "      <td>356.00</td>\n",
              "      <td>1</td>\n",
              "      <td>41</td>\n",
              "      <td>1.0</td>\n",
              "      <td>1</td>\n",
              "      <td>1.0</td>\n",
              "      <td>1.0</td>\n",
              "    </tr>\n",
              "    <tr>\n",
              "      <th>7413</th>\n",
              "      <td>148.00</td>\n",
              "      <td>1</td>\n",
              "      <td>57</td>\n",
              "      <td>1.0</td>\n",
              "      <td>1</td>\n",
              "      <td>1.0</td>\n",
              "      <td>1.0</td>\n",
              "    </tr>\n",
              "    <tr>\n",
              "      <th>7495</th>\n",
              "      <td>193.47</td>\n",
              "      <td>1</td>\n",
              "      <td>44</td>\n",
              "      <td>1.0</td>\n",
              "      <td>1</td>\n",
              "      <td>1.0</td>\n",
              "      <td>1.0</td>\n",
              "    </tr>\n",
              "    <tr>\n",
              "      <th>7517</th>\n",
              "      <td>52.00</td>\n",
              "      <td>1</td>\n",
              "      <td>30</td>\n",
              "      <td>1.0</td>\n",
              "      <td>1</td>\n",
              "      <td>1.0</td>\n",
              "      <td>1.0</td>\n",
              "    </tr>\n",
              "    <tr>\n",
              "      <th>7660</th>\n",
              "      <td>95.00</td>\n",
              "      <td>1</td>\n",
              "      <td>40</td>\n",
              "      <td>1.0</td>\n",
              "      <td>1</td>\n",
              "      <td>1.0</td>\n",
              "      <td>1.0</td>\n",
              "    </tr>\n",
              "    <tr>\n",
              "      <th>8411</th>\n",
              "      <td>95.20</td>\n",
              "      <td>1</td>\n",
              "      <td>56</td>\n",
              "      <td>1.0</td>\n",
              "      <td>1</td>\n",
              "      <td>1.0</td>\n",
              "      <td>1.0</td>\n",
              "    </tr>\n",
              "    <tr>\n",
              "      <th>9586</th>\n",
              "      <td>189.93</td>\n",
              "      <td>1</td>\n",
              "      <td>19</td>\n",
              "      <td>1.0</td>\n",
              "      <td>1</td>\n",
              "      <td>1.0</td>\n",
              "      <td>NaN</td>\n",
              "    </tr>\n",
              "    <tr>\n",
              "      <th>9781</th>\n",
              "      <td>96.90</td>\n",
              "      <td>1</td>\n",
              "      <td>26</td>\n",
              "      <td>1.0</td>\n",
              "      <td>1</td>\n",
              "      <td>1.0</td>\n",
              "      <td>1.0</td>\n",
              "    </tr>\n",
              "    <tr>\n",
              "      <th>9809</th>\n",
              "      <td>324.99</td>\n",
              "      <td>1</td>\n",
              "      <td>40</td>\n",
              "      <td>1.0</td>\n",
              "      <td>1</td>\n",
              "      <td>1.0</td>\n",
              "      <td>1.0</td>\n",
              "    </tr>\n",
              "  </tbody>\n",
              "</table>\n",
              "</div>"
            ],
            "text/plain": [
              "      order_amount  ...  paid_installment_4\n",
              "77           49.80  ...                 1.0\n",
              "125         116.99  ...                 1.0\n",
              "469         579.58  ...                 1.0\n",
              "678         125.21  ...                 1.0\n",
              "888          90.00  ...                 1.0\n",
              "1187        130.90  ...                 1.0\n",
              "1235        170.19  ...                 1.0\n",
              "1497        131.87  ...                 1.0\n",
              "1502        139.01  ...                 1.0\n",
              "1766        820.00  ...                 1.0\n",
              "2104         79.98  ...                 1.0\n",
              "2273         56.14  ...                 1.0\n",
              "2316         45.00  ...                 1.0\n",
              "2410         57.00  ...                 1.0\n",
              "2527         75.08  ...                 1.0\n",
              "2605        118.15  ...                 1.0\n",
              "3006        320.00  ...                 1.0\n",
              "3092        189.87  ...                 1.0\n",
              "3100        248.00  ...                 1.0\n",
              "3352         76.29  ...                 1.0\n",
              "4190         76.29  ...                 1.0\n",
              "4201        178.00  ...                 1.0\n",
              "4292        345.00  ...                 1.0\n",
              "4519        135.42  ...                 1.0\n",
              "4783         69.95  ...                 1.0\n",
              "4819         71.87  ...                 1.0\n",
              "5178        266.00  ...                 1.0\n",
              "5196        213.98  ...                 1.0\n",
              "5557        174.98  ...                 1.0\n",
              "6116        114.00  ...                 1.0\n",
              "6140        111.96  ...                 1.0\n",
              "6147         86.78  ...                 1.0\n",
              "6335        104.44  ...                 1.0\n",
              "6538        203.00  ...                 1.0\n",
              "6569        202.50  ...                 1.0\n",
              "6584        132.96  ...                 1.0\n",
              "6607        345.00  ...                 1.0\n",
              "6912        280.25  ...                 1.0\n",
              "7113         43.40  ...                 1.0\n",
              "7121         64.00  ...                 1.0\n",
              "7144        356.00  ...                 1.0\n",
              "7413        148.00  ...                 1.0\n",
              "7495        193.47  ...                 1.0\n",
              "7517         52.00  ...                 1.0\n",
              "7660         95.00  ...                 1.0\n",
              "8411         95.20  ...                 1.0\n",
              "9586        189.93  ...                 NaN\n",
              "9781         96.90  ...                 1.0\n",
              "9809        324.99  ...                 1.0\n",
              "\n",
              "[49 rows x 7 columns]"
            ]
          },
          "metadata": {},
          "execution_count": 16
        }
      ]
    },
    {
      "cell_type": "code",
      "metadata": {
        "id": "vh7MshY_eRdX"
      },
      "source": [
        "# Removing the outliers with the mean\n",
        "df[\"customer_credit_score\"] = df[\"customer_credit_score\"].replace(1, np.mean(df.customer_credit_score))"
      ],
      "execution_count": 17,
      "outputs": []
    },
    {
      "cell_type": "code",
      "metadata": {
        "colab": {
          "base_uri": "https://localhost:8080/",
          "height": 424
        },
        "id": "6rjXYufFeRdY",
        "outputId": "74e20448-94f5-4702-e7cb-8dbd724c82d5"
      },
      "source": [
        "# After adjusting the outliers in our dataframe\n",
        "df"
      ],
      "execution_count": 18,
      "outputs": [
        {
          "output_type": "execute_result",
          "data": {
            "text/html": [
              "<div>\n",
              "<style scoped>\n",
              "    .dataframe tbody tr th:only-of-type {\n",
              "        vertical-align: middle;\n",
              "    }\n",
              "\n",
              "    .dataframe tbody tr th {\n",
              "        vertical-align: top;\n",
              "    }\n",
              "\n",
              "    .dataframe thead th {\n",
              "        text-align: right;\n",
              "    }\n",
              "</style>\n",
              "<table border=\"1\" class=\"dataframe\">\n",
              "  <thead>\n",
              "    <tr style=\"text-align: right;\">\n",
              "      <th></th>\n",
              "      <th>order_amount</th>\n",
              "      <th>customer_credit_score</th>\n",
              "      <th>customer_age</th>\n",
              "      <th>paid_installment_1</th>\n",
              "      <th>paid_installment_2</th>\n",
              "      <th>paid_installment_3</th>\n",
              "      <th>paid_installment_4</th>\n",
              "    </tr>\n",
              "  </thead>\n",
              "  <tbody>\n",
              "    <tr>\n",
              "      <th>0</th>\n",
              "      <td>147.20</td>\n",
              "      <td>626.0</td>\n",
              "      <td>26</td>\n",
              "      <td>1.0</td>\n",
              "      <td>1</td>\n",
              "      <td>1.0</td>\n",
              "      <td>1.0</td>\n",
              "    </tr>\n",
              "    <tr>\n",
              "      <th>1</th>\n",
              "      <td>69.95</td>\n",
              "      <td>603.0</td>\n",
              "      <td>20</td>\n",
              "      <td>1.0</td>\n",
              "      <td>1</td>\n",
              "      <td>1.0</td>\n",
              "      <td>1.0</td>\n",
              "    </tr>\n",
              "    <tr>\n",
              "      <th>2</th>\n",
              "      <td>45.00</td>\n",
              "      <td>648.0</td>\n",
              "      <td>41</td>\n",
              "      <td>1.0</td>\n",
              "      <td>1</td>\n",
              "      <td>1.0</td>\n",
              "      <td>1.0</td>\n",
              "    </tr>\n",
              "    <tr>\n",
              "      <th>3</th>\n",
              "      <td>164.00</td>\n",
              "      <td>625.0</td>\n",
              "      <td>33</td>\n",
              "      <td>1.0</td>\n",
              "      <td>1</td>\n",
              "      <td>1.0</td>\n",
              "      <td>1.0</td>\n",
              "    </tr>\n",
              "    <tr>\n",
              "      <th>4</th>\n",
              "      <td>69.17</td>\n",
              "      <td>438.0</td>\n",
              "      <td>18</td>\n",
              "      <td>1.0</td>\n",
              "      <td>1</td>\n",
              "      <td>1.0</td>\n",
              "      <td>1.0</td>\n",
              "    </tr>\n",
              "    <tr>\n",
              "      <th>...</th>\n",
              "      <td>...</td>\n",
              "      <td>...</td>\n",
              "      <td>...</td>\n",
              "      <td>...</td>\n",
              "      <td>...</td>\n",
              "      <td>...</td>\n",
              "      <td>...</td>\n",
              "    </tr>\n",
              "    <tr>\n",
              "      <th>9995</th>\n",
              "      <td>63.66</td>\n",
              "      <td>613.0</td>\n",
              "      <td>37</td>\n",
              "      <td>1.0</td>\n",
              "      <td>1</td>\n",
              "      <td>1.0</td>\n",
              "      <td>1.0</td>\n",
              "    </tr>\n",
              "    <tr>\n",
              "      <th>9996</th>\n",
              "      <td>83.89</td>\n",
              "      <td>771.0</td>\n",
              "      <td>34</td>\n",
              "      <td>1.0</td>\n",
              "      <td>1</td>\n",
              "      <td>1.0</td>\n",
              "      <td>1.0</td>\n",
              "    </tr>\n",
              "    <tr>\n",
              "      <th>9997</th>\n",
              "      <td>95.25</td>\n",
              "      <td>611.0</td>\n",
              "      <td>45</td>\n",
              "      <td>1.0</td>\n",
              "      <td>1</td>\n",
              "      <td>1.0</td>\n",
              "      <td>1.0</td>\n",
              "    </tr>\n",
              "    <tr>\n",
              "      <th>9998</th>\n",
              "      <td>79.95</td>\n",
              "      <td>611.0</td>\n",
              "      <td>18</td>\n",
              "      <td>1.0</td>\n",
              "      <td>1</td>\n",
              "      <td>1.0</td>\n",
              "      <td>1.0</td>\n",
              "    </tr>\n",
              "    <tr>\n",
              "      <th>9999</th>\n",
              "      <td>15.50</td>\n",
              "      <td>611.0</td>\n",
              "      <td>19</td>\n",
              "      <td>1.0</td>\n",
              "      <td>1</td>\n",
              "      <td>1.0</td>\n",
              "      <td>1.0</td>\n",
              "    </tr>\n",
              "  </tbody>\n",
              "</table>\n",
              "<p>10000 rows × 7 columns</p>\n",
              "</div>"
            ],
            "text/plain": [
              "      order_amount  ...  paid_installment_4\n",
              "0           147.20  ...                 1.0\n",
              "1            69.95  ...                 1.0\n",
              "2            45.00  ...                 1.0\n",
              "3           164.00  ...                 1.0\n",
              "4            69.17  ...                 1.0\n",
              "...            ...  ...                 ...\n",
              "9995         63.66  ...                 1.0\n",
              "9996         83.89  ...                 1.0\n",
              "9997         95.25  ...                 1.0\n",
              "9998         79.95  ...                 1.0\n",
              "9999         15.50  ...                 1.0\n",
              "\n",
              "[10000 rows x 7 columns]"
            ]
          },
          "metadata": {},
          "execution_count": 18
        }
      ]
    },
    {
      "cell_type": "code",
      "metadata": {
        "id": "Z_WgazFSeRdY"
      },
      "source": [
        "# Assumption: Here we are taking null value as 0 (Installment not made)\n",
        "df = df.fillna({\"paid_installment_1\": 0})\n",
        "df = df.fillna({\"paid_installment_2\": 0})\n",
        "df = df.fillna({\"paid_installment_3\": 0})\n",
        "df = df.fillna({\"paid_installment_4\": 0})"
      ],
      "execution_count": 19,
      "outputs": []
    },
    {
      "cell_type": "code",
      "metadata": {
        "id": "f2lbx_CZeRdZ"
      },
      "source": [
        "# Changing the data type to integer from floating \n",
        "df[[\"paid_installment_1\", \"paid_installment_2\", \n",
        "   \"paid_installment_3\", \"paid_installment_4\"]] = df[[\"paid_installment_1\", \"paid_installment_2\", \n",
        "                                                    \"paid_installment_3\", \"paid_installment_4\"]].astype(int)"
      ],
      "execution_count": 20,
      "outputs": []
    },
    {
      "cell_type": "code",
      "metadata": {
        "colab": {
          "base_uri": "https://localhost:8080/"
        },
        "id": "ZyWKaAG-eRdZ",
        "outputId": "9f6b567d-4192-420a-d250-cc50b3b6e5c0"
      },
      "source": [
        "# Checking the value counts for each installment\n",
        "df.paid_installment_1.value_counts()"
      ],
      "execution_count": 21,
      "outputs": [
        {
          "output_type": "execute_result",
          "data": {
            "text/plain": [
              "1    9998\n",
              "0       2\n",
              "Name: paid_installment_1, dtype: int64"
            ]
          },
          "metadata": {},
          "execution_count": 21
        }
      ]
    },
    {
      "cell_type": "code",
      "metadata": {
        "colab": {
          "base_uri": "https://localhost:8080/"
        },
        "id": "o2IYYog5eRda",
        "outputId": "8c1307eb-950b-4890-bea1-459952ca411e"
      },
      "source": [
        "# Print the unique values in each columns\n",
        "print(df.nunique())"
      ],
      "execution_count": 22,
      "outputs": [
        {
          "output_type": "stream",
          "name": "stdout",
          "text": [
            "order_amount             4250\n",
            "customer_credit_score     448\n",
            "customer_age               66\n",
            "paid_installment_1          2\n",
            "paid_installment_2          2\n",
            "paid_installment_3          2\n",
            "paid_installment_4          2\n",
            "dtype: int64\n"
          ]
        }
      ]
    },
    {
      "cell_type": "code",
      "metadata": {
        "id": "f4YoyXSjeRda"
      },
      "source": [
        "# Create a new column payment default in our dataset\n",
        "df[\"pay_default\"] = df[\"paid_installment_1\"] + df[\"paid_installment_2\"] + df[\"paid_installment_3\"] + df[\"paid_installment_4\"]"
      ],
      "execution_count": 23,
      "outputs": []
    },
    {
      "cell_type": "code",
      "metadata": {
        "colab": {
          "base_uri": "https://localhost:8080/"
        },
        "id": "d1Lx2wnBeRda",
        "outputId": "5619a9dc-4c28-41eb-dee2-531b9c33adbd"
      },
      "source": [
        "# Checking the value counts for default payment column\n",
        "df.pay_default.value_counts()"
      ],
      "execution_count": 24,
      "outputs": [
        {
          "output_type": "execute_result",
          "data": {
            "text/plain": [
              "4    8752\n",
              "3     876\n",
              "2     223\n",
              "1     149\n",
              "Name: pay_default, dtype: int64"
            ]
          },
          "metadata": {},
          "execution_count": 24
        }
      ]
    },
    {
      "cell_type": "code",
      "metadata": {
        "colab": {
          "base_uri": "https://localhost:8080/",
          "height": 424
        },
        "id": "GGosCMD6eRdb",
        "outputId": "961a87df-408a-42fe-c0e3-1aa4ef39b694"
      },
      "source": [
        "df"
      ],
      "execution_count": 25,
      "outputs": [
        {
          "output_type": "execute_result",
          "data": {
            "text/html": [
              "<div>\n",
              "<style scoped>\n",
              "    .dataframe tbody tr th:only-of-type {\n",
              "        vertical-align: middle;\n",
              "    }\n",
              "\n",
              "    .dataframe tbody tr th {\n",
              "        vertical-align: top;\n",
              "    }\n",
              "\n",
              "    .dataframe thead th {\n",
              "        text-align: right;\n",
              "    }\n",
              "</style>\n",
              "<table border=\"1\" class=\"dataframe\">\n",
              "  <thead>\n",
              "    <tr style=\"text-align: right;\">\n",
              "      <th></th>\n",
              "      <th>order_amount</th>\n",
              "      <th>customer_credit_score</th>\n",
              "      <th>customer_age</th>\n",
              "      <th>paid_installment_1</th>\n",
              "      <th>paid_installment_2</th>\n",
              "      <th>paid_installment_3</th>\n",
              "      <th>paid_installment_4</th>\n",
              "      <th>pay_default</th>\n",
              "    </tr>\n",
              "  </thead>\n",
              "  <tbody>\n",
              "    <tr>\n",
              "      <th>0</th>\n",
              "      <td>147.20</td>\n",
              "      <td>626.0</td>\n",
              "      <td>26</td>\n",
              "      <td>1</td>\n",
              "      <td>1</td>\n",
              "      <td>1</td>\n",
              "      <td>1</td>\n",
              "      <td>4</td>\n",
              "    </tr>\n",
              "    <tr>\n",
              "      <th>1</th>\n",
              "      <td>69.95</td>\n",
              "      <td>603.0</td>\n",
              "      <td>20</td>\n",
              "      <td>1</td>\n",
              "      <td>1</td>\n",
              "      <td>1</td>\n",
              "      <td>1</td>\n",
              "      <td>4</td>\n",
              "    </tr>\n",
              "    <tr>\n",
              "      <th>2</th>\n",
              "      <td>45.00</td>\n",
              "      <td>648.0</td>\n",
              "      <td>41</td>\n",
              "      <td>1</td>\n",
              "      <td>1</td>\n",
              "      <td>1</td>\n",
              "      <td>1</td>\n",
              "      <td>4</td>\n",
              "    </tr>\n",
              "    <tr>\n",
              "      <th>3</th>\n",
              "      <td>164.00</td>\n",
              "      <td>625.0</td>\n",
              "      <td>33</td>\n",
              "      <td>1</td>\n",
              "      <td>1</td>\n",
              "      <td>1</td>\n",
              "      <td>1</td>\n",
              "      <td>4</td>\n",
              "    </tr>\n",
              "    <tr>\n",
              "      <th>4</th>\n",
              "      <td>69.17</td>\n",
              "      <td>438.0</td>\n",
              "      <td>18</td>\n",
              "      <td>1</td>\n",
              "      <td>1</td>\n",
              "      <td>1</td>\n",
              "      <td>1</td>\n",
              "      <td>4</td>\n",
              "    </tr>\n",
              "    <tr>\n",
              "      <th>...</th>\n",
              "      <td>...</td>\n",
              "      <td>...</td>\n",
              "      <td>...</td>\n",
              "      <td>...</td>\n",
              "      <td>...</td>\n",
              "      <td>...</td>\n",
              "      <td>...</td>\n",
              "      <td>...</td>\n",
              "    </tr>\n",
              "    <tr>\n",
              "      <th>9995</th>\n",
              "      <td>63.66</td>\n",
              "      <td>613.0</td>\n",
              "      <td>37</td>\n",
              "      <td>1</td>\n",
              "      <td>1</td>\n",
              "      <td>1</td>\n",
              "      <td>1</td>\n",
              "      <td>4</td>\n",
              "    </tr>\n",
              "    <tr>\n",
              "      <th>9996</th>\n",
              "      <td>83.89</td>\n",
              "      <td>771.0</td>\n",
              "      <td>34</td>\n",
              "      <td>1</td>\n",
              "      <td>1</td>\n",
              "      <td>1</td>\n",
              "      <td>1</td>\n",
              "      <td>4</td>\n",
              "    </tr>\n",
              "    <tr>\n",
              "      <th>9997</th>\n",
              "      <td>95.25</td>\n",
              "      <td>611.0</td>\n",
              "      <td>45</td>\n",
              "      <td>1</td>\n",
              "      <td>1</td>\n",
              "      <td>1</td>\n",
              "      <td>1</td>\n",
              "      <td>4</td>\n",
              "    </tr>\n",
              "    <tr>\n",
              "      <th>9998</th>\n",
              "      <td>79.95</td>\n",
              "      <td>611.0</td>\n",
              "      <td>18</td>\n",
              "      <td>1</td>\n",
              "      <td>1</td>\n",
              "      <td>1</td>\n",
              "      <td>1</td>\n",
              "      <td>4</td>\n",
              "    </tr>\n",
              "    <tr>\n",
              "      <th>9999</th>\n",
              "      <td>15.50</td>\n",
              "      <td>611.0</td>\n",
              "      <td>19</td>\n",
              "      <td>1</td>\n",
              "      <td>1</td>\n",
              "      <td>1</td>\n",
              "      <td>1</td>\n",
              "      <td>4</td>\n",
              "    </tr>\n",
              "  </tbody>\n",
              "</table>\n",
              "<p>10000 rows × 8 columns</p>\n",
              "</div>"
            ],
            "text/plain": [
              "      order_amount  customer_credit_score  ...  paid_installment_4  pay_default\n",
              "0           147.20                  626.0  ...                   1            4\n",
              "1            69.95                  603.0  ...                   1            4\n",
              "2            45.00                  648.0  ...                   1            4\n",
              "3           164.00                  625.0  ...                   1            4\n",
              "4            69.17                  438.0  ...                   1            4\n",
              "...            ...                    ...  ...                 ...          ...\n",
              "9995         63.66                  613.0  ...                   1            4\n",
              "9996         83.89                  771.0  ...                   1            4\n",
              "9997         95.25                  611.0  ...                   1            4\n",
              "9998         79.95                  611.0  ...                   1            4\n",
              "9999         15.50                  611.0  ...                   1            4\n",
              "\n",
              "[10000 rows x 8 columns]"
            ]
          },
          "metadata": {},
          "execution_count": 25
        }
      ]
    },
    {
      "cell_type": "code",
      "metadata": {
        "id": "UJMZxrrveRdb"
      },
      "source": [
        "# Dropping paid_installment_1, paid_installment_2, paid_installment_3, paid_installment_4\n",
        "df = df.drop(columns = [\"paid_installment_1\", \"paid_installment_2\", \"paid_installment_3\", \"paid_installment_4\"])"
      ],
      "execution_count": 26,
      "outputs": []
    },
    {
      "cell_type": "code",
      "metadata": {
        "colab": {
          "base_uri": "https://localhost:8080/",
          "height": 424
        },
        "id": "58K-tL3geRdb",
        "outputId": "8ba1ee64-61a1-4bc4-ec73-c595ab1a905e"
      },
      "source": [
        "df"
      ],
      "execution_count": 27,
      "outputs": [
        {
          "output_type": "execute_result",
          "data": {
            "text/html": [
              "<div>\n",
              "<style scoped>\n",
              "    .dataframe tbody tr th:only-of-type {\n",
              "        vertical-align: middle;\n",
              "    }\n",
              "\n",
              "    .dataframe tbody tr th {\n",
              "        vertical-align: top;\n",
              "    }\n",
              "\n",
              "    .dataframe thead th {\n",
              "        text-align: right;\n",
              "    }\n",
              "</style>\n",
              "<table border=\"1\" class=\"dataframe\">\n",
              "  <thead>\n",
              "    <tr style=\"text-align: right;\">\n",
              "      <th></th>\n",
              "      <th>order_amount</th>\n",
              "      <th>customer_credit_score</th>\n",
              "      <th>customer_age</th>\n",
              "      <th>pay_default</th>\n",
              "    </tr>\n",
              "  </thead>\n",
              "  <tbody>\n",
              "    <tr>\n",
              "      <th>0</th>\n",
              "      <td>147.20</td>\n",
              "      <td>626.0</td>\n",
              "      <td>26</td>\n",
              "      <td>4</td>\n",
              "    </tr>\n",
              "    <tr>\n",
              "      <th>1</th>\n",
              "      <td>69.95</td>\n",
              "      <td>603.0</td>\n",
              "      <td>20</td>\n",
              "      <td>4</td>\n",
              "    </tr>\n",
              "    <tr>\n",
              "      <th>2</th>\n",
              "      <td>45.00</td>\n",
              "      <td>648.0</td>\n",
              "      <td>41</td>\n",
              "      <td>4</td>\n",
              "    </tr>\n",
              "    <tr>\n",
              "      <th>3</th>\n",
              "      <td>164.00</td>\n",
              "      <td>625.0</td>\n",
              "      <td>33</td>\n",
              "      <td>4</td>\n",
              "    </tr>\n",
              "    <tr>\n",
              "      <th>4</th>\n",
              "      <td>69.17</td>\n",
              "      <td>438.0</td>\n",
              "      <td>18</td>\n",
              "      <td>4</td>\n",
              "    </tr>\n",
              "    <tr>\n",
              "      <th>...</th>\n",
              "      <td>...</td>\n",
              "      <td>...</td>\n",
              "      <td>...</td>\n",
              "      <td>...</td>\n",
              "    </tr>\n",
              "    <tr>\n",
              "      <th>9995</th>\n",
              "      <td>63.66</td>\n",
              "      <td>613.0</td>\n",
              "      <td>37</td>\n",
              "      <td>4</td>\n",
              "    </tr>\n",
              "    <tr>\n",
              "      <th>9996</th>\n",
              "      <td>83.89</td>\n",
              "      <td>771.0</td>\n",
              "      <td>34</td>\n",
              "      <td>4</td>\n",
              "    </tr>\n",
              "    <tr>\n",
              "      <th>9997</th>\n",
              "      <td>95.25</td>\n",
              "      <td>611.0</td>\n",
              "      <td>45</td>\n",
              "      <td>4</td>\n",
              "    </tr>\n",
              "    <tr>\n",
              "      <th>9998</th>\n",
              "      <td>79.95</td>\n",
              "      <td>611.0</td>\n",
              "      <td>18</td>\n",
              "      <td>4</td>\n",
              "    </tr>\n",
              "    <tr>\n",
              "      <th>9999</th>\n",
              "      <td>15.50</td>\n",
              "      <td>611.0</td>\n",
              "      <td>19</td>\n",
              "      <td>4</td>\n",
              "    </tr>\n",
              "  </tbody>\n",
              "</table>\n",
              "<p>10000 rows × 4 columns</p>\n",
              "</div>"
            ],
            "text/plain": [
              "      order_amount  customer_credit_score  customer_age  pay_default\n",
              "0           147.20                  626.0            26            4\n",
              "1            69.95                  603.0            20            4\n",
              "2            45.00                  648.0            41            4\n",
              "3           164.00                  625.0            33            4\n",
              "4            69.17                  438.0            18            4\n",
              "...            ...                    ...           ...          ...\n",
              "9995         63.66                  613.0            37            4\n",
              "9996         83.89                  771.0            34            4\n",
              "9997         95.25                  611.0            45            4\n",
              "9998         79.95                  611.0            18            4\n",
              "9999         15.50                  611.0            19            4\n",
              "\n",
              "[10000 rows x 4 columns]"
            ]
          },
          "metadata": {},
          "execution_count": 27
        }
      ]
    },
    {
      "cell_type": "code",
      "metadata": {
        "id": "92GCmn-weRdc"
      },
      "source": [
        "# Changing the numerical value into categorical with constraints\n",
        "cleanup_nums = {\"pay_default\": {4: \"no\", 3: \"yes\", 2: \"yes\", 1: \"yes\"}}"
      ],
      "execution_count": 28,
      "outputs": []
    },
    {
      "cell_type": "code",
      "metadata": {
        "id": "3PzwD95zeRdc"
      },
      "source": [
        "# Replacing the pay default values \n",
        "df = df.replace(cleanup_nums)"
      ],
      "execution_count": 29,
      "outputs": []
    },
    {
      "cell_type": "code",
      "metadata": {
        "colab": {
          "base_uri": "https://localhost:8080/",
          "height": 476
        },
        "id": "5xXhZJ5BeRdc",
        "outputId": "747a04de-0e44-4ee8-d773-e8aaeab0350d"
      },
      "source": [
        "# Checking the value counts for default payment column in terms of yes and no\n",
        "print(df.pay_default.value_counts())\n",
        "df"
      ],
      "execution_count": 30,
      "outputs": [
        {
          "output_type": "stream",
          "name": "stdout",
          "text": [
            "no     8752\n",
            "yes    1248\n",
            "Name: pay_default, dtype: int64\n"
          ]
        },
        {
          "output_type": "execute_result",
          "data": {
            "text/html": [
              "<div>\n",
              "<style scoped>\n",
              "    .dataframe tbody tr th:only-of-type {\n",
              "        vertical-align: middle;\n",
              "    }\n",
              "\n",
              "    .dataframe tbody tr th {\n",
              "        vertical-align: top;\n",
              "    }\n",
              "\n",
              "    .dataframe thead th {\n",
              "        text-align: right;\n",
              "    }\n",
              "</style>\n",
              "<table border=\"1\" class=\"dataframe\">\n",
              "  <thead>\n",
              "    <tr style=\"text-align: right;\">\n",
              "      <th></th>\n",
              "      <th>order_amount</th>\n",
              "      <th>customer_credit_score</th>\n",
              "      <th>customer_age</th>\n",
              "      <th>pay_default</th>\n",
              "    </tr>\n",
              "  </thead>\n",
              "  <tbody>\n",
              "    <tr>\n",
              "      <th>0</th>\n",
              "      <td>147.20</td>\n",
              "      <td>626.0</td>\n",
              "      <td>26</td>\n",
              "      <td>no</td>\n",
              "    </tr>\n",
              "    <tr>\n",
              "      <th>1</th>\n",
              "      <td>69.95</td>\n",
              "      <td>603.0</td>\n",
              "      <td>20</td>\n",
              "      <td>no</td>\n",
              "    </tr>\n",
              "    <tr>\n",
              "      <th>2</th>\n",
              "      <td>45.00</td>\n",
              "      <td>648.0</td>\n",
              "      <td>41</td>\n",
              "      <td>no</td>\n",
              "    </tr>\n",
              "    <tr>\n",
              "      <th>3</th>\n",
              "      <td>164.00</td>\n",
              "      <td>625.0</td>\n",
              "      <td>33</td>\n",
              "      <td>no</td>\n",
              "    </tr>\n",
              "    <tr>\n",
              "      <th>4</th>\n",
              "      <td>69.17</td>\n",
              "      <td>438.0</td>\n",
              "      <td>18</td>\n",
              "      <td>no</td>\n",
              "    </tr>\n",
              "    <tr>\n",
              "      <th>...</th>\n",
              "      <td>...</td>\n",
              "      <td>...</td>\n",
              "      <td>...</td>\n",
              "      <td>...</td>\n",
              "    </tr>\n",
              "    <tr>\n",
              "      <th>9995</th>\n",
              "      <td>63.66</td>\n",
              "      <td>613.0</td>\n",
              "      <td>37</td>\n",
              "      <td>no</td>\n",
              "    </tr>\n",
              "    <tr>\n",
              "      <th>9996</th>\n",
              "      <td>83.89</td>\n",
              "      <td>771.0</td>\n",
              "      <td>34</td>\n",
              "      <td>no</td>\n",
              "    </tr>\n",
              "    <tr>\n",
              "      <th>9997</th>\n",
              "      <td>95.25</td>\n",
              "      <td>611.0</td>\n",
              "      <td>45</td>\n",
              "      <td>no</td>\n",
              "    </tr>\n",
              "    <tr>\n",
              "      <th>9998</th>\n",
              "      <td>79.95</td>\n",
              "      <td>611.0</td>\n",
              "      <td>18</td>\n",
              "      <td>no</td>\n",
              "    </tr>\n",
              "    <tr>\n",
              "      <th>9999</th>\n",
              "      <td>15.50</td>\n",
              "      <td>611.0</td>\n",
              "      <td>19</td>\n",
              "      <td>no</td>\n",
              "    </tr>\n",
              "  </tbody>\n",
              "</table>\n",
              "<p>10000 rows × 4 columns</p>\n",
              "</div>"
            ],
            "text/plain": [
              "      order_amount  customer_credit_score  customer_age pay_default\n",
              "0           147.20                  626.0            26          no\n",
              "1            69.95                  603.0            20          no\n",
              "2            45.00                  648.0            41          no\n",
              "3           164.00                  625.0            33          no\n",
              "4            69.17                  438.0            18          no\n",
              "...            ...                    ...           ...         ...\n",
              "9995         63.66                  613.0            37          no\n",
              "9996         83.89                  771.0            34          no\n",
              "9997         95.25                  611.0            45          no\n",
              "9998         79.95                  611.0            18          no\n",
              "9999         15.50                  611.0            19          no\n",
              "\n",
              "[10000 rows x 4 columns]"
            ]
          },
          "metadata": {},
          "execution_count": 30
        }
      ]
    },
    {
      "cell_type": "code",
      "metadata": {
        "colab": {
          "base_uri": "https://localhost:8080/",
          "height": 287
        },
        "id": "47abftZxAm7L",
        "outputId": "05fc0bc3-25f5-40ce-ac22-e5e88b5ea79f"
      },
      "source": [
        "# Visualize the correlation\n",
        "plt.figure(figsize = (10, 4))\n",
        "sns.heatmap(df.corr(), annot = True, fmt = \".0%\")"
      ],
      "execution_count": 31,
      "outputs": [
        {
          "output_type": "execute_result",
          "data": {
            "text/plain": [
              "<matplotlib.axes._subplots.AxesSubplot at 0x7ff658500110>"
            ]
          },
          "metadata": {},
          "execution_count": 31
        },
        {
          "output_type": "display_data",
          "data": {
            "image/png": "[encoded data removed]",
            "text/plain": [
              "<Figure size 720x288 with 2 Axes>"
            ]
          },
          "metadata": {
            "needs_background": "light"
          }
        }
      ]
    },
    {
      "cell_type": "markdown",
      "metadata": {
        "id": "cxhKy0_ReRdc"
      },
      "source": [
        "Observation: Out of 10,000 loans only 1248 has defaulted "
      ]
    },
    {
      "cell_type": "code",
      "metadata": {
        "colab": {
          "base_uri": "https://localhost:8080/",
          "height": 299
        },
        "id": "6TnEFXXpeRdc",
        "outputId": "8180bd9e-e655-44fe-936c-2cceb5a6095a"
      },
      "source": [
        "# Visualize the pay_default\n",
        "sns.countplot(df[\"pay_default\"])"
      ],
      "execution_count": 32,
      "outputs": [
        {
          "output_type": "execute_result",
          "data": {
            "text/plain": [
              "<matplotlib.axes._subplots.AxesSubplot at 0x7ff65833c350>"
            ]
          },
          "metadata": {},
          "execution_count": 32
        },
        {
          "output_type": "display_data",
          "data": {
            "image/png": "[encoded data removed]",
            "text/plain": [
              "<Figure size 432x288 with 1 Axes>"
            ]
          },
          "metadata": {
            "needs_background": "light"
          }
        }
      ]
    },
    {
      "cell_type": "markdown",
      "metadata": {
        "id": "CipL5cbZrewT"
      },
      "source": [
        "Observation: We can see this is imbalaced dataset as minority dataset is 1248 vs majority dataset is 8752. If we apply any algorithm on this dataset we will get good accuracy but the model will not be right as we already have 8752/10000 yes in our data. "
      ]
    },
    {
      "cell_type": "markdown",
      "metadata": {
        "id": "_aUHuMm52RhU"
      },
      "source": [
        "Let's apply any model and check its accuracy"
      ]
    },
    {
      "cell_type": "code",
      "metadata": {
        "colab": {
          "base_uri": "https://localhost:8080/",
          "height": 206
        },
        "id": "89iFZ9dXeRdd",
        "outputId": "e1d52177-587a-464d-f20e-60c96f15d521"
      },
      "source": [
        "# Defining dependent and independent variables\n",
        "X = df.iloc[:,:-1]\n",
        "y = df.pay_default\n",
        "X.head()"
      ],
      "execution_count": 33,
      "outputs": [
        {
          "output_type": "execute_result",
          "data": {
            "text/html": [
              "<div>\n",
              "<style scoped>\n",
              "    .dataframe tbody tr th:only-of-type {\n",
              "        vertical-align: middle;\n",
              "    }\n",
              "\n",
              "    .dataframe tbody tr th {\n",
              "        vertical-align: top;\n",
              "    }\n",
              "\n",
              "    .dataframe thead th {\n",
              "        text-align: right;\n",
              "    }\n",
              "</style>\n",
              "<table border=\"1\" class=\"dataframe\">\n",
              "  <thead>\n",
              "    <tr style=\"text-align: right;\">\n",
              "      <th></th>\n",
              "      <th>order_amount</th>\n",
              "      <th>customer_credit_score</th>\n",
              "      <th>customer_age</th>\n",
              "    </tr>\n",
              "  </thead>\n",
              "  <tbody>\n",
              "    <tr>\n",
              "      <th>0</th>\n",
              "      <td>147.20</td>\n",
              "      <td>626.0</td>\n",
              "      <td>26</td>\n",
              "    </tr>\n",
              "    <tr>\n",
              "      <th>1</th>\n",
              "      <td>69.95</td>\n",
              "      <td>603.0</td>\n",
              "      <td>20</td>\n",
              "    </tr>\n",
              "    <tr>\n",
              "      <th>2</th>\n",
              "      <td>45.00</td>\n",
              "      <td>648.0</td>\n",
              "      <td>41</td>\n",
              "    </tr>\n",
              "    <tr>\n",
              "      <th>3</th>\n",
              "      <td>164.00</td>\n",
              "      <td>625.0</td>\n",
              "      <td>33</td>\n",
              "    </tr>\n",
              "    <tr>\n",
              "      <th>4</th>\n",
              "      <td>69.17</td>\n",
              "      <td>438.0</td>\n",
              "      <td>18</td>\n",
              "    </tr>\n",
              "  </tbody>\n",
              "</table>\n",
              "</div>"
            ],
            "text/plain": [
              "   order_amount  customer_credit_score  customer_age\n",
              "0        147.20                  626.0            26\n",
              "1         69.95                  603.0            20\n",
              "2         45.00                  648.0            41\n",
              "3        164.00                  625.0            33\n",
              "4         69.17                  438.0            18"
            ]
          },
          "metadata": {},
          "execution_count": 33
        }
      ]
    },
    {
      "cell_type": "code",
      "metadata": {
        "id": "WIpefd-1eRdd"
      },
      "source": [
        "# Splitting the dataset into the Training set and Test set\n",
        "from sklearn.model_selection import train_test_split\n",
        "X_train, X_test, y_train, y_test = train_test_split(X, y, test_size = 0.25, random_state = 0)"
      ],
      "execution_count": 34,
      "outputs": []
    },
    {
      "cell_type": "code",
      "metadata": {
        "id": "2udX9shcsCbg"
      },
      "source": [
        "from sklearn.neighbors import KNeighborsClassifier\n",
        "model = KNeighborsClassifier()\n",
        "model.fit(X_train,y_train)\n",
        "y_predict = model.predict(X_test)"
      ],
      "execution_count": 35,
      "outputs": []
    },
    {
      "cell_type": "code",
      "metadata": {
        "colab": {
          "base_uri": "https://localhost:8080/",
          "height": 161
        },
        "id": "dFUX145autI4",
        "outputId": "36cd8f1b-31a7-43c6-8ddc-3bf64c9bfc57"
      },
      "source": [
        "from sklearn.metrics import accuracy_score\n",
        "print(accuracy_score(y_test,y_predict))\n",
        "pd.crosstab(y_test,y_predict)"
      ],
      "execution_count": 36,
      "outputs": [
        {
          "output_type": "stream",
          "name": "stdout",
          "text": [
            "0.868\n"
          ]
        },
        {
          "output_type": "execute_result",
          "data": {
            "text/html": [
              "<div>\n",
              "<style scoped>\n",
              "    .dataframe tbody tr th:only-of-type {\n",
              "        vertical-align: middle;\n",
              "    }\n",
              "\n",
              "    .dataframe tbody tr th {\n",
              "        vertical-align: top;\n",
              "    }\n",
              "\n",
              "    .dataframe thead th {\n",
              "        text-align: right;\n",
              "    }\n",
              "</style>\n",
              "<table border=\"1\" class=\"dataframe\">\n",
              "  <thead>\n",
              "    <tr style=\"text-align: right;\">\n",
              "      <th>col_0</th>\n",
              "      <th>no</th>\n",
              "      <th>yes</th>\n",
              "    </tr>\n",
              "    <tr>\n",
              "      <th>pay_default</th>\n",
              "      <th></th>\n",
              "      <th></th>\n",
              "    </tr>\n",
              "  </thead>\n",
              "  <tbody>\n",
              "    <tr>\n",
              "      <th>no</th>\n",
              "      <td>2150</td>\n",
              "      <td>40</td>\n",
              "    </tr>\n",
              "    <tr>\n",
              "      <th>yes</th>\n",
              "      <td>290</td>\n",
              "      <td>20</td>\n",
              "    </tr>\n",
              "  </tbody>\n",
              "</table>\n",
              "</div>"
            ],
            "text/plain": [
              "col_0          no  yes\n",
              "pay_default           \n",
              "no           2150   40\n",
              "yes           290   20"
            ]
          },
          "metadata": {},
          "execution_count": 36
        }
      ]
    },
    {
      "cell_type": "code",
      "metadata": {
        "colab": {
          "base_uri": "https://localhost:8080/"
        },
        "id": "MeoQEdwY7F0Q",
        "outputId": "91143c49-f132-463b-8a93-fe5ccd70bd85"
      },
      "source": [
        "from sklearn.metrics import classification_report\n",
        "print(classification_report(y_test, y_predict))"
      ],
      "execution_count": 37,
      "outputs": [
        {
          "output_type": "stream",
          "name": "stdout",
          "text": [
            "              precision    recall  f1-score   support\n",
            "\n",
            "          no       0.88      0.98      0.93      2190\n",
            "         yes       0.33      0.06      0.11       310\n",
            "\n",
            "    accuracy                           0.87      2500\n",
            "   macro avg       0.61      0.52      0.52      2500\n",
            "weighted avg       0.81      0.87      0.83      2500\n",
            "\n"
          ]
        }
      ]
    },
    {
      "cell_type": "markdown",
      "metadata": {
        "id": "jE71-Q7p2kNW"
      },
      "source": [
        "The Accuracy Paradox: \n",
        "\n",
        "In such cases where class distribution is skewed, the accuracy metric is biased and not preferable.\n",
        "We can see the accuracy score is very high but we can not accept this model. We need to resample the data so our model can work with other dataset "
      ]
    },
    {
      "cell_type": "code",
      "metadata": {
        "id": "AmyM6jsivvwx"
      },
      "source": [
        "# Applying SMOTE: Synthetic Minority Oversampling Technique\n",
        "from imblearn.over_sampling import SMOTE\n",
        "smote = SMOTE()"
      ],
      "execution_count": 38,
      "outputs": []
    },
    {
      "cell_type": "code",
      "metadata": {
        "id": "OKsWT8WOv1H4"
      },
      "source": [
        "# We will aaply SMOTE on our training set\n",
        "X_train_smote, y_train_smote = smote.fit_resample(X_train.astype(\"float\"), y_train)"
      ],
      "execution_count": 39,
      "outputs": []
    },
    {
      "cell_type": "code",
      "metadata": {
        "colab": {
          "base_uri": "https://localhost:8080/"
        },
        "id": "L8oGv327wRSk",
        "outputId": "91ffb5b3-ea31-440c-9d64-eab183776d86"
      },
      "source": [
        "from collections import Counter\n",
        "print(\"Before SMOTE :\" , Counter(y_train))\n",
        "print(\"After SMOTE :\" , Counter(y_train_smote))"
      ],
      "execution_count": 40,
      "outputs": [
        {
          "output_type": "stream",
          "name": "stdout",
          "text": [
            "Before SMOTE : Counter({'no': 6562, 'yes': 938})\n",
            "After SMOTE : Counter({'no': 6562, 'yes': 6562})\n"
          ]
        }
      ]
    },
    {
      "cell_type": "markdown",
      "metadata": {
        "id": "Bbcfh7E_6MCb"
      },
      "source": [
        "If we apply the same algorithm now after resampling the accuracy will be less but it will be more generalized for the new data "
      ]
    },
    {
      "cell_type": "code",
      "metadata": {
        "colab": {
          "base_uri": "https://localhost:8080/",
          "height": 161
        },
        "id": "JD7rQNg_wZen",
        "outputId": "fd881d00-8607-422e-dc09-9aeb05d6e88d"
      },
      "source": [
        "model.fit(X_train_smote,y_train_smote)\n",
        "y_predict = model.predict(X_test)\n",
        "print(accuracy_score(y_test,y_predict))\n",
        "pd.crosstab(y_test,y_predict)"
      ],
      "execution_count": 41,
      "outputs": [
        {
          "output_type": "stream",
          "name": "stdout",
          "text": [
            "0.6588\n"
          ]
        },
        {
          "output_type": "execute_result",
          "data": {
            "text/html": [
              "<div>\n",
              "<style scoped>\n",
              "    .dataframe tbody tr th:only-of-type {\n",
              "        vertical-align: middle;\n",
              "    }\n",
              "\n",
              "    .dataframe tbody tr th {\n",
              "        vertical-align: top;\n",
              "    }\n",
              "\n",
              "    .dataframe thead th {\n",
              "        text-align: right;\n",
              "    }\n",
              "</style>\n",
              "<table border=\"1\" class=\"dataframe\">\n",
              "  <thead>\n",
              "    <tr style=\"text-align: right;\">\n",
              "      <th>col_0</th>\n",
              "      <th>no</th>\n",
              "      <th>yes</th>\n",
              "    </tr>\n",
              "    <tr>\n",
              "      <th>pay_default</th>\n",
              "      <th></th>\n",
              "      <th></th>\n",
              "    </tr>\n",
              "  </thead>\n",
              "  <tbody>\n",
              "    <tr>\n",
              "      <th>no</th>\n",
              "      <td>1521</td>\n",
              "      <td>669</td>\n",
              "    </tr>\n",
              "    <tr>\n",
              "      <th>yes</th>\n",
              "      <td>184</td>\n",
              "      <td>126</td>\n",
              "    </tr>\n",
              "  </tbody>\n",
              "</table>\n",
              "</div>"
            ],
            "text/plain": [
              "col_0          no  yes\n",
              "pay_default           \n",
              "no           1521  669\n",
              "yes           184  126"
            ]
          },
          "metadata": {},
          "execution_count": 41
        }
      ]
    },
    {
      "cell_type": "code",
      "metadata": {
        "colab": {
          "base_uri": "https://localhost:8080/"
        },
        "id": "ygeKmOz-7KPM",
        "outputId": "2e23a0aa-6c06-4eea-fec5-d1f5a1881d6d"
      },
      "source": [
        "from sklearn.metrics import classification_report\n",
        "print(classification_report(y_test, y_predict))"
      ],
      "execution_count": 42,
      "outputs": [
        {
          "output_type": "stream",
          "name": "stdout",
          "text": [
            "              precision    recall  f1-score   support\n",
            "\n",
            "          no       0.89      0.69      0.78      2190\n",
            "         yes       0.16      0.41      0.23       310\n",
            "\n",
            "    accuracy                           0.66      2500\n",
            "   macro avg       0.53      0.55      0.50      2500\n",
            "weighted avg       0.80      0.66      0.71      2500\n",
            "\n"
          ]
        }
      ]
    },
    {
      "cell_type": "markdown",
      "metadata": {
        "id": "F2C-4Jcb3sz1"
      },
      "source": [
        "Applying Decision Tree Classification to the Training set"
      ]
    },
    {
      "cell_type": "code",
      "metadata": {
        "id": "x7qDXrAJ3V05"
      },
      "source": [
        "# Fitting Decision Tree Classification to the Training set\n",
        "from sklearn.tree import DecisionTreeClassifier\n",
        "classifier = DecisionTreeClassifier(criterion = 'entropy', random_state = 0)\n",
        "classifier.fit(X_train_smote, y_train_smote)\n",
        "\n",
        "# Predicting the Test set results\n",
        "y_predict = classifier.predict(X_test)\n",
        "\n",
        "# Making the Confusion Matrix\n",
        "from sklearn.metrics import confusion_matrix\n",
        "cm = confusion_matrix(y_test, y_predict)"
      ],
      "execution_count": 43,
      "outputs": []
    },
    {
      "cell_type": "code",
      "metadata": {
        "colab": {
          "base_uri": "https://localhost:8080/"
        },
        "id": "cwpI20Mp3eyE",
        "outputId": "ade3e785-7e3d-4287-ea47-c5ac433d220d"
      },
      "source": [
        "from sklearn.metrics import accuracy_score\n",
        "accuracy = accuracy_score(y_test, y_predict)\n",
        "print(cm, \"Accuracy: {:.2f}%\".format(accuracy * 100))"
      ],
      "execution_count": 44,
      "outputs": [
        {
          "output_type": "stream",
          "name": "stdout",
          "text": [
            "[[1807  383]\n",
            " [ 232   78]] Accuracy: 75.40%\n"
          ]
        }
      ]
    },
    {
      "cell_type": "code",
      "metadata": {
        "colab": {
          "base_uri": "https://localhost:8080/"
        },
        "id": "sJAxi--IeRdf",
        "outputId": "f358c367-3910-412e-ba86-91f606ac5f2e"
      },
      "source": [
        "from sklearn.metrics import classification_report\n",
        "print(classification_report(y_test, y_predict))"
      ],
      "execution_count": 45,
      "outputs": [
        {
          "output_type": "stream",
          "name": "stdout",
          "text": [
            "              precision    recall  f1-score   support\n",
            "\n",
            "          no       0.89      0.83      0.85      2190\n",
            "         yes       0.17      0.25      0.20       310\n",
            "\n",
            "    accuracy                           0.75      2500\n",
            "   macro avg       0.53      0.54      0.53      2500\n",
            "weighted avg       0.80      0.75      0.77      2500\n",
            "\n"
          ]
        }
      ]
    },
    {
      "cell_type": "code",
      "metadata": {
        "colab": {
          "background_save": true
        },
        "id": "PguMrF__Cc2v"
      },
      "source": [
        "fig, axes = plt.subplots(nrows = 1,ncols = 1,figsize = (14,10), dpi=300)\n",
        "from sklearn import tree\n",
        "tree.plot_tree(classifier,feature_names = [\"order_amount\", \"customer_credit_score\", \"customer_age\"], class_names=[\"yes\",\"no\"],filled = True);"
      ],
      "execution_count": null,
      "outputs": []
    },
    {
      "cell_type": "code",
      "metadata": {
        "id": "QjO0A5nR9bTW"
      },
      "source": [
        "# Fitting Naive Bayes to the Training set\n",
        "from sklearn.naive_bayes import GaussianNB\n",
        "classifier = GaussianNB()\n",
        "classifier.fit(X_train_smote, y_train_smote)\n",
        "\n",
        "# Predicting the Test set results\n",
        "y_predict = classifier.predict(X_test)\n",
        "\n",
        "# Making the Confusion Matrix\n",
        "from sklearn.metrics import confusion_matrix\n",
        "cm = confusion_matrix(y_test, y_predict)\n",
        "\n",
        "from sklearn.metrics import accuracy_score\n",
        "accuracy = accuracy_score(y_test, y_predict)\n",
        "print(cm, \"Accuracy: {:.2f}%\".format(accuracy * 100))"
      ],
      "execution_count": null,
      "outputs": []
    },
    {
      "cell_type": "code",
      "metadata": {
        "id": "AL8rsrPSCT91"
      },
      "source": [
        "# Fitting Kernel SVM to the Training set\n",
        "from sklearn.svm import SVC\n",
        "classifier = SVC(kernel = 'rbf', random_state = 0)\n",
        "classifier.fit(X_train_smote, y_train_smote)\n",
        "\n",
        "# Predicting the Test set results\n",
        "y_predict = classifier.predict(X_test)\n",
        "\n",
        "# Making the Confusion Matrix\n",
        "from sklearn.metrics import confusion_matrix\n",
        "cm = confusion_matrix(y_test, y_predict)\n",
        "\n",
        "from sklearn.metrics import accuracy_score\n",
        "accuracy = accuracy_score(y_test, y_predict)\n",
        "print(cm, \"Accuracy: {:.2f}%\".format(accuracy * 100))"
      ],
      "execution_count": null,
      "outputs": []
    },
    {
      "cell_type": "markdown",
      "metadata": {
        "id": "01P05yHC7ZuD"
      },
      "source": [
        "Let's apply Random Forest Classification algotithm in our resampled train data set"
      ]
    },
    {
      "cell_type": "code",
      "metadata": {
        "id": "_A44ck1MxSEF"
      },
      "source": [
        "# Fitting Random Forest Classification to the Training set\n",
        "from sklearn.ensemble import RandomForestClassifier\n",
        "classifier = RandomForestClassifier(n_estimators = 10, criterion = 'entropy', random_state = 0)\n",
        "classifier.fit(X_train_smote, y_train_smote)\n",
        "\n",
        "# Predicting the Test set results\n",
        "y_predict = classifier.predict(X_test)\n",
        "\n",
        "# Making the Confusion Matrix\n",
        "from sklearn.metrics import confusion_matrix\n",
        "cm = confusion_matrix(y_test, y_predict)\n",
        "\n",
        "from sklearn.metrics import accuracy_score\n",
        "accuracy = accuracy_score(y_test, y_predict)\n",
        "print(cm, \"Accuracy: {:.2f}%\".format(accuracy * 100))"
      ],
      "execution_count": null,
      "outputs": []
    },
    {
      "cell_type": "markdown",
      "metadata": {
        "id": "WhGvgG2GOq69"
      },
      "source": [
        "Conclusion:\n",
        "\n",
        "Implementing SMOTE on our imbalanced dataset helped us with the imbalance of our labels. We acheive the accuracy of 80.44 % using the Random Forest Classification but our model is still not perfect. We need more data so we can apply Neural Networks in our model which can give better result. "
      ]
    },
    {
      "cell_type": "markdown",
      "metadata": {
        "id": "su8oOvkgPwkH"
      },
      "source": [
        "Order Amount and Credit score is showing strong correlation with a customer’s likelihood of paying back the installments\n",
        "\n",
        "\n",
        "Some of the features which is discarded\n",
        "\n",
        "\"order_id\", \"customer_id\", \"merchant_id\", \"checkout_started_at\", \"credit_decision_started_at\", \n",
        "\"approved_for_installments\", \"customer_billing_zip\", \"customer_shipping_zip\"\n",
        "\n",
        "One way to deal with categorical variables like zip codes is to split them into dummy variables. This is what “One Hot Encoder” does. When you have a categorical variable with 5000 unique values, dummy variables really won’t be much help, unfortunately. Using “One Hot Encoder” on zip code means you’ll create 5000 new independent variables. If you have 1-2 people in a zip code and one is a customer, the penetration rate would be extremely high (50%). This high number doesn’t mean that the zip code is fertile grounds for prospecting. Maybe it is. Maybe it isn’t. If you only have two people in your sample, the statistic really has no value.\n",
        "\n",
        "Also columns that contain a single Value and delete that Columns. We need to identify columns which is not useful in our model and delete that columns."
      ]
    },
    {
      "cell_type": "markdown",
      "metadata": {
        "id": "JXY4AG3-RGWq"
      },
      "source": [
        "What surprised you about the results/trends observed in the data?\n",
        "\n",
        "Credi score is not sufficient parameter to check wheather customer will default of not. "
      ]
    },
    {
      "cell_type": "markdown",
      "metadata": {
        "id": "W5Xm9miMRUJZ"
      },
      "source": [
        "What additional data would you like to see that might help build a better installmentapproval classifier?\n",
        "\n",
        "If we can get dataset will more features like Salary, Employment type, Home ownership, Credit enquiry, marital status, Past delinquency etc.\n",
        "The classifier model can be more robust"
      ]
    },
    {
      "cell_type": "markdown",
      "metadata": {
        "id": "pbMcujiuSuO4"
      },
      "source": [
        "What would be your next steps to train/build a model that we could use to make real time\n",
        "customer approval decisions?\n",
        "\n",
        "I would spend more time in feature scaling the dataset and make the necessary changes in the features like coverting them in normal distribution, Using Zip codes to convert them in longitude and lattitude then check the cities where the trancation is taking place more and using hyperparameter tuning for random forest classifier model. Also if data set is larg then we can train the data using Nural Network for each features. "
      ]
    }
  ]
}